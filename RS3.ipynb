{
 "cells": [
  {
   "cell_type": "markdown",
   "metadata": {},
   "source": [
    "# Recommenders 3 -- Sequence Recommenders (45m) \n",
    "\n",
    "## Goals of this practical:\n",
    "\n",
    "- Understand the sequence recommendation framework (~5min)\n",
    "- Load/Format dataset (~5min)\n",
    "- Understand/train the prod2vec model (~10min)\n",
    "- Evaluate (~10min)\n",
    "- Visualize (~10min)\n",
    "- Fiddle (~5min)\n",
    "\n"
   ]
  },
  {
   "cell_type": "code",
   "execution_count": 1,
   "metadata": {},
   "outputs": [],
   "source": [
    "#! pip install gensim --upgrade"
   ]
  },
  {
   "cell_type": "code",
   "execution_count": 2,
   "metadata": {},
   "outputs": [],
   "source": [
    "import pandas as pd\n",
    "import numpy as np"
   ]
  },
  {
   "cell_type": "markdown",
   "metadata": {},
   "source": [
    "# Sequence Recommenders:\n",
    "\n",
    "> What will you click next ?\n",
    "\n",
    "The sequence recommendation setting is a particular case of the implicit collaborative filtering setting. Given a sequence of items $i_0,i_1,...,i_n$ the goal is to predict the $i_{(n+1)},...$ items the user will consume. Playlist continuation is a neat use case of sequence recommenders. You've been listening to those songs, what can you listen to now ?\n",
    "\n",
    "\n",
    "This setting differs from the classical collaborative filtering because the history is the recent trace and not the full saved interactions. Also, it's possible to do sequence recommendation without any specific latent user profile. \n",
    "\n",
    "#### Here we propose to explore this unpersonalized sequence recommandation"
   ]
  },
  {
   "cell_type": "markdown",
   "metadata": {},
   "source": [
    "## Data used : [smallest movie-lens dataset](https://grouplens.org/datasets/movielens/)\n",
    "\n",
    "Here we'll use the same data as before but instead of seeing $(user,item,rating)$ triplets or a $(user,item)$ interaction , we'll see item sequences: $user: [item, item,...]$\n",
    "\n",
    "## Loading Data (same as before but in chronological order):"
   ]
  },
  {
   "cell_type": "code",
   "execution_count": 3,
   "metadata": {},
   "outputs": [
    {
     "name": "stdout",
     "output_type": "stream",
     "text": [
      "True\n"
     ]
    }
   ],
   "source": [
    "ratings = pd.read_csv(\"dataset/ratings.csv\")\n",
    "ratings = ratings.sort_values(\"timestamp\",ascending=True)\n",
    "print(ratings.iloc[0][\"timestamp\"] < ratings.iloc[-1][\"timestamp\"] ) # just checking \n",
    "\n",
    "\n",
    "# we also load titles and create an id2title dictionnary\n",
    "titleCSV = pd.read_csv(\"dataset/movies.csv\")\n",
    "titleCSV.head(5)\n",
    "id2title = titleCSV[[\"movieId\",\"title\"]].set_index(\"movieId\").to_dict()[\"title\"]"
   ]
  },
  {
   "cell_type": "code",
   "execution_count": 4,
   "metadata": {},
   "outputs": [
    {
     "data": {
      "text/html": [
       "<div>\n",
       "<style scoped>\n",
       "    .dataframe tbody tr th:only-of-type {\n",
       "        vertical-align: middle;\n",
       "    }\n",
       "\n",
       "    .dataframe tbody tr th {\n",
       "        vertical-align: top;\n",
       "    }\n",
       "\n",
       "    .dataframe thead th {\n",
       "        text-align: right;\n",
       "    }\n",
       "</style>\n",
       "<table border=\"1\" class=\"dataframe\">\n",
       "  <thead>\n",
       "    <tr style=\"text-align: right;\">\n",
       "      <th></th>\n",
       "      <th>userId</th>\n",
       "      <th>movieId</th>\n",
       "      <th>rating</th>\n",
       "      <th>timestamp</th>\n",
       "    </tr>\n",
       "  </thead>\n",
       "  <tbody>\n",
       "    <tr>\n",
       "      <th>66719</th>\n",
       "      <td>429</td>\n",
       "      <td>595</td>\n",
       "      <td>5.0</td>\n",
       "      <td>828124615</td>\n",
       "    </tr>\n",
       "    <tr>\n",
       "      <th>66716</th>\n",
       "      <td>429</td>\n",
       "      <td>588</td>\n",
       "      <td>5.0</td>\n",
       "      <td>828124615</td>\n",
       "    </tr>\n",
       "    <tr>\n",
       "      <th>66717</th>\n",
       "      <td>429</td>\n",
       "      <td>590</td>\n",
       "      <td>5.0</td>\n",
       "      <td>828124615</td>\n",
       "    </tr>\n",
       "    <tr>\n",
       "      <th>66718</th>\n",
       "      <td>429</td>\n",
       "      <td>592</td>\n",
       "      <td>5.0</td>\n",
       "      <td>828124615</td>\n",
       "    </tr>\n",
       "    <tr>\n",
       "      <th>66712</th>\n",
       "      <td>429</td>\n",
       "      <td>432</td>\n",
       "      <td>3.0</td>\n",
       "      <td>828124615</td>\n",
       "    </tr>\n",
       "  </tbody>\n",
       "</table>\n",
       "</div>"
      ],
      "text/plain": [
       "       userId  movieId  rating  timestamp\n",
       "66719     429      595     5.0  828124615\n",
       "66716     429      588     5.0  828124615\n",
       "66717     429      590     5.0  828124615\n",
       "66718     429      592     5.0  828124615\n",
       "66712     429      432     3.0  828124615"
      ]
     },
     "execution_count": 4,
     "metadata": {},
     "output_type": "execute_result"
    }
   ],
   "source": [
    "ratings.head(5)"
   ]
  },
  {
   "cell_type": "markdown",
   "metadata": {},
   "source": [
    "## (a) Create sequence datasets:\n",
    "For this task, we need sequences of items as data:"
   ]
  },
  {
   "cell_type": "markdown",
   "metadata": {},
   "source": [
    "## (Todo): extract all movie sequences (in chronological order) from the dataset:\n",
    "\n",
    "\n",
    "In this dataset, each user has seen at least 20 movies.\n",
    "\n",
    "\n",
    "- We need to extract all movie rating sequences (there is one per user) from the dataset:\n",
    "\n",
    "`sequence_of_movies = [[movieid,...],[movieid,...],...]`"
   ]
  },
  {
   "cell_type": "code",
   "execution_count": 5,
   "metadata": {},
   "outputs": [],
   "source": [
    "sequences_of_movies = [list(ratings[ratings['userId'] == id]['movieId'].values) for id in ratings['userId'].unique()]\n",
    "#sequences_of_movies = ratings.groupby(\"userId\")[\"movieId\"].apply(list).values\n"
   ]
  },
  {
   "cell_type": "markdown",
   "metadata": {},
   "source": [
    "## (Todo): Create a train/test dataset\n",
    "\n",
    "Here, we propose as task to predict the last 5 items of each sequence."
   ]
  },
  {
   "cell_type": "code",
   "execution_count": 6,
   "metadata": {},
   "outputs": [],
   "source": [
    "train_seq,test_seq = [],[]\n",
    "\n",
    "for seq in sequences_of_movies:\n",
    "    train_seq.append(seq[:-5])\n",
    "    test_seq.append(seq[-5:])\n",
    "    \n",
    "last_consumed_item = [seq[-1] for seq in train_seq] # We save the last consumed item for each list\n",
    "                                                    # We'll use it as a starting point"
   ]
  },
  {
   "cell_type": "markdown",
   "metadata": {},
   "source": [
    "## (Todo): Create the list of the most popular movies\n",
    "\n",
    "- Here, popular is the number of times the movie appears in a list"
   ]
  },
  {
   "cell_type": "code",
   "execution_count": 7,
   "metadata": {},
   "outputs": [],
   "source": [
    "from collections import Counter\n",
    "\n",
    "counts = np.asarray([Counter(seq) for seq in sequences_of_movies]).sum()\n",
    "most_popular = list(dict(counts.most_common()).keys())\n",
    "num_items = len(most_popular)"
   ]
  },
  {
   "cell_type": "markdown",
   "metadata": {},
   "source": [
    "``` python\n",
    "#Most popular looks like this:\n",
    "[356,318,296,2571,593,260,480,110,589,...]\n",
    " ```"
   ]
  },
  {
   "cell_type": "markdown",
   "metadata": {},
   "source": [
    "## Word2Vec skip-gram <=> Prod2Vec\n",
    "\n",
    "\n",
    "### Word2Vec\n",
    "\n",
    "The MAIN idea of word2vec is to maximise the similarity (dot product) between the vectors for words which appear close together (in the context of each other) in text, and minimise the similarity of words that do not. \n",
    "\n",
    "This can be applied to products instead of words: it clusters similar products together.\n",
    "\n",
    "\n",
    "#### Paper Abstract:\n",
    "> In recent years online advertising has become increasingly ubiquitous and effective. Advertisements shown to visitors fund sites and apps that publish digital content, manage social networks, and operate e-mail services. Given such large variety of internet resources, determining an appropriate type of advertising for a given platform has become critical to financial success. Native advertisements, namely ads that are similar in look and feel to content, have had great success in news and social feeds. However, to date there has not been a winning formula for ads in e-mail clients. In this paper we describe a system that leverages user purchase history determined from e-mail receipts to deliver highly personalized product ads to Yahoo Mail users. We propose to use a novel neural language-based algorithm specifically tailored for delivering effective product recommendations, which was evaluated against baselines that included showing popular products and products predicted based on co-occurrence. We conducted rigorous offline testing using a large-scale product purchase data set, covering purchases of more than 29 million users from 172 e-commerce websites. Ads in the form of product recommendations were successfully tested on online traffic, where we observed a steady 9% lift in click-through rates over other ad formats in mail, as well as comparable lift in conversion rates. Following successful tests, the system was launched into production during the holiday season of 2014\n",
    "\n",
    "[Prod2Vec Model](https://arxiv.org/abs/1606.07154)\n",
    "\n"
   ]
  },
  {
   "cell_type": "markdown",
   "metadata": {},
   "source": [
    "## Gensim has the best python implementation of word2vec's algorithms:\n",
    "\n",
    "We can just use these raw implementations. The only thing to do is to consider items as words:"
   ]
  },
  {
   "cell_type": "code",
   "execution_count": 8,
   "metadata": {},
   "outputs": [
    {
     "name": "stderr",
     "output_type": "stream",
     "text": [
      "2021-03-11 08:48:44,420 : WARNING : consider setting layer size to a multiple of 4 for greater performance\n",
      "2021-03-11 08:48:44,422 : INFO : collecting all words and their counts\n",
      "2021-03-11 08:48:44,423 : INFO : PROGRESS: at sentence #0, processed 0 words, keeping 0 word types\n",
      "2021-03-11 08:48:44,470 : INFO : collected 9616 word types from a corpus of 97786 raw words and 610 sentences\n",
      "2021-03-11 08:48:44,472 : INFO : Loading a fresh vocabulary\n",
      "2021-03-11 08:48:44,552 : INFO : effective_min_count=0 retains 9616 unique words (100% of original 9616, drops 0)\n",
      "2021-03-11 08:48:44,566 : INFO : effective_min_count=0 leaves 97786 word corpus (100% of original 97786, drops 0)\n",
      "2021-03-11 08:48:44,697 : INFO : deleting the raw counts dictionary of 9616 items\n",
      "2021-03-11 08:48:44,699 : INFO : sample=0.001 downsamples 5 most-common words\n",
      "2021-03-11 08:48:44,700 : INFO : downsampling leaves estimated 97657 word corpus (99.9% of prior 97786)\n",
      "2021-03-11 08:48:44,754 : INFO : estimated required memory for 9616 words and 50 dimensions: 8654400 bytes\n",
      "2021-03-11 08:48:44,756 : INFO : resetting layer weights\n",
      "2021-03-11 08:48:49,181 : INFO : training model with 10 workers on 9616 vocabulary and 50 features, using sg=1 hs=0 sample=0.001 negative=15 window=10\n",
      "2021-03-11 08:48:50,198 : INFO : worker thread finished; awaiting finish of 9 more threads\n",
      "2021-03-11 08:48:50,218 : INFO : worker thread finished; awaiting finish of 8 more threads\n",
      "2021-03-11 08:48:50,959 : INFO : EPOCH 1 - PROGRESS: at 26.07% examples, 17493 words/s, in_qsize 7, out_qsize 1\n",
      "2021-03-11 08:48:50,962 : INFO : worker thread finished; awaiting finish of 7 more threads\n",
      "2021-03-11 08:48:51,058 : INFO : worker thread finished; awaiting finish of 6 more threads\n",
      "2021-03-11 08:48:51,327 : INFO : worker thread finished; awaiting finish of 5 more threads\n",
      "2021-03-11 08:48:51,335 : INFO : worker thread finished; awaiting finish of 4 more threads\n",
      "2021-03-11 08:48:51,590 : INFO : worker thread finished; awaiting finish of 3 more threads\n",
      "2021-03-11 08:48:51,670 : INFO : worker thread finished; awaiting finish of 2 more threads\n",
      "2021-03-11 08:48:51,720 : INFO : worker thread finished; awaiting finish of 1 more threads\n",
      "2021-03-11 08:48:51,733 : INFO : worker thread finished; awaiting finish of 0 more threads\n",
      "2021-03-11 08:48:51,735 : INFO : EPOCH - 1 : training on 97786 raw words (97667 effective words) took 2.5s, 39321 effective words/s\n",
      "2021-03-11 08:48:52,736 : INFO : worker thread finished; awaiting finish of 9 more threads\n",
      "2021-03-11 08:48:53,104 : INFO : EPOCH 2 - PROGRESS: at 18.20% examples, 14833 words/s, in_qsize 8, out_qsize 1\n",
      "2021-03-11 08:48:53,106 : INFO : worker thread finished; awaiting finish of 8 more threads\n",
      "2021-03-11 08:48:53,168 : INFO : worker thread finished; awaiting finish of 7 more threads\n",
      "2021-03-11 08:48:53,734 : INFO : worker thread finished; awaiting finish of 6 more threads\n",
      "2021-03-11 08:48:53,817 : INFO : worker thread finished; awaiting finish of 5 more threads\n",
      "2021-03-11 08:48:54,037 : INFO : worker thread finished; awaiting finish of 4 more threads\n",
      "2021-03-11 08:48:54,140 : INFO : EPOCH 2 - PROGRESS: at 55.08% examples, 28744 words/s, in_qsize 3, out_qsize 1\n",
      "2021-03-11 08:48:54,143 : INFO : worker thread finished; awaiting finish of 3 more threads\n",
      "2021-03-11 08:48:54,183 : INFO : worker thread finished; awaiting finish of 2 more threads\n",
      "2021-03-11 08:48:54,230 : INFO : worker thread finished; awaiting finish of 1 more threads\n",
      "2021-03-11 08:48:54,286 : INFO : worker thread finished; awaiting finish of 0 more threads\n",
      "2021-03-11 08:48:54,288 : INFO : EPOCH - 2 : training on 97786 raw words (97622 effective words) took 2.5s, 38424 effective words/s\n",
      "2021-03-11 08:48:56,011 : INFO : EPOCH 3 - PROGRESS: at 6.72% examples, 5855 words/s, in_qsize 10, out_qsize 0\n",
      "2021-03-11 08:48:56,017 : INFO : worker thread finished; awaiting finish of 9 more threads\n",
      "2021-03-11 08:48:56,043 : INFO : worker thread finished; awaiting finish of 8 more threads\n",
      "2021-03-11 08:48:56,106 : INFO : worker thread finished; awaiting finish of 7 more threads\n",
      "2021-03-11 08:48:56,137 : INFO : worker thread finished; awaiting finish of 6 more threads\n",
      "2021-03-11 08:48:56,163 : INFO : worker thread finished; awaiting finish of 5 more threads\n",
      "2021-03-11 08:48:56,245 : INFO : worker thread finished; awaiting finish of 4 more threads\n",
      "2021-03-11 08:48:56,626 : INFO : worker thread finished; awaiting finish of 3 more threads\n",
      "2021-03-11 08:48:56,695 : INFO : worker thread finished; awaiting finish of 2 more threads\n",
      "2021-03-11 08:48:56,726 : INFO : worker thread finished; awaiting finish of 1 more threads\n",
      "2021-03-11 08:48:56,730 : INFO : worker thread finished; awaiting finish of 0 more threads\n",
      "2021-03-11 08:48:56,732 : INFO : EPOCH - 3 : training on 97786 raw words (97663 effective words) took 2.4s, 40287 effective words/s\n",
      "2021-03-11 08:48:57,835 : INFO : EPOCH 4 - PROGRESS: at 9.67% examples, 10134 words/s, in_qsize 9, out_qsize 1\n",
      "2021-03-11 08:48:57,839 : INFO : worker thread finished; awaiting finish of 9 more threads\n",
      "2021-03-11 08:48:58,511 : INFO : worker thread finished; awaiting finish of 8 more threads\n",
      "2021-03-11 08:48:58,775 : INFO : worker thread finished; awaiting finish of 7 more threads\n",
      "2021-03-11 08:48:58,793 : INFO : worker thread finished; awaiting finish of 6 more threads\n",
      "2021-03-11 08:48:59,013 : INFO : EPOCH 4 - PROGRESS: at 40.49% examples, 22048 words/s, in_qsize 5, out_qsize 1\n",
      "2021-03-11 08:48:59,015 : INFO : worker thread finished; awaiting finish of 5 more threads\n",
      "2021-03-11 08:48:59,052 : INFO : worker thread finished; awaiting finish of 4 more threads\n",
      "2021-03-11 08:48:59,071 : INFO : worker thread finished; awaiting finish of 3 more threads\n",
      "2021-03-11 08:48:59,295 : INFO : worker thread finished; awaiting finish of 2 more threads\n",
      "2021-03-11 08:48:59,323 : INFO : worker thread finished; awaiting finish of 1 more threads\n",
      "2021-03-11 08:48:59,326 : INFO : worker thread finished; awaiting finish of 0 more threads\n",
      "2021-03-11 08:48:59,327 : INFO : EPOCH - 4 : training on 97786 raw words (97668 effective words) took 2.5s, 38438 effective words/s\n",
      "2021-03-11 08:49:00,873 : INFO : EPOCH 5 - PROGRESS: at 24.43% examples, 6484 words/s, in_qsize 10, out_qsize 0\n",
      "2021-03-11 08:49:00,994 : INFO : worker thread finished; awaiting finish of 9 more threads\n",
      "2021-03-11 08:49:01,135 : INFO : worker thread finished; awaiting finish of 8 more threads\n",
      "2021-03-11 08:49:01,143 : INFO : worker thread finished; awaiting finish of 7 more threads\n",
      "2021-03-11 08:49:01,176 : INFO : worker thread finished; awaiting finish of 6 more threads\n",
      "2021-03-11 08:49:01,475 : INFO : worker thread finished; awaiting finish of 5 more threads\n",
      "2021-03-11 08:49:01,497 : INFO : worker thread finished; awaiting finish of 4 more threads\n",
      "2021-03-11 08:49:01,636 : INFO : worker thread finished; awaiting finish of 3 more threads\n",
      "2021-03-11 08:49:01,663 : INFO : worker thread finished; awaiting finish of 2 more threads\n",
      "2021-03-11 08:49:01,688 : INFO : worker thread finished; awaiting finish of 1 more threads\n",
      "2021-03-11 08:49:01,719 : INFO : worker thread finished; awaiting finish of 0 more threads\n",
      "2021-03-11 08:49:01,722 : INFO : EPOCH - 5 : training on 97786 raw words (97667 effective words) took 2.4s, 41024 effective words/s\n",
      "2021-03-11 08:49:03,314 : INFO : EPOCH 6 - PROGRESS: at 24.43% examples, 6304 words/s, in_qsize 10, out_qsize 0\n",
      "2021-03-11 08:49:03,465 : INFO : worker thread finished; awaiting finish of 9 more threads\n",
      "2021-03-11 08:49:03,577 : INFO : worker thread finished; awaiting finish of 8 more threads\n",
      "2021-03-11 08:49:03,673 : INFO : worker thread finished; awaiting finish of 7 more threads\n",
      "2021-03-11 08:49:03,698 : INFO : worker thread finished; awaiting finish of 6 more threads\n",
      "2021-03-11 08:49:04,045 : INFO : worker thread finished; awaiting finish of 5 more threads\n",
      "2021-03-11 08:49:04,091 : INFO : worker thread finished; awaiting finish of 4 more threads\n",
      "2021-03-11 08:49:04,178 : INFO : worker thread finished; awaiting finish of 3 more threads\n",
      "2021-03-11 08:49:04,264 : INFO : worker thread finished; awaiting finish of 2 more threads\n",
      "2021-03-11 08:49:04,340 : INFO : EPOCH 6 - PROGRESS: at 91.97% examples, 33704 words/s, in_qsize 1, out_qsize 1\n"
     ]
    },
    {
     "name": "stderr",
     "output_type": "stream",
     "text": [
      "2021-03-11 08:49:04,343 : INFO : worker thread finished; awaiting finish of 1 more threads\n",
      "2021-03-11 08:49:04,406 : INFO : worker thread finished; awaiting finish of 0 more threads\n",
      "2021-03-11 08:49:04,408 : INFO : EPOCH - 6 : training on 97786 raw words (97665 effective words) took 2.7s, 36585 effective words/s\n",
      "2021-03-11 08:49:06,165 : INFO : EPOCH 7 - PROGRESS: at 8.52% examples, 5821 words/s, in_qsize 10, out_qsize 0\n",
      "2021-03-11 08:49:06,181 : INFO : worker thread finished; awaiting finish of 9 more threads\n",
      "2021-03-11 08:49:06,200 : INFO : worker thread finished; awaiting finish of 8 more threads\n",
      "2021-03-11 08:49:06,238 : INFO : worker thread finished; awaiting finish of 7 more threads\n",
      "2021-03-11 08:49:06,297 : INFO : worker thread finished; awaiting finish of 6 more threads\n",
      "2021-03-11 08:49:06,593 : INFO : worker thread finished; awaiting finish of 5 more threads\n",
      "2021-03-11 08:49:06,708 : INFO : worker thread finished; awaiting finish of 4 more threads\n",
      "2021-03-11 08:49:06,824 : INFO : worker thread finished; awaiting finish of 3 more threads\n",
      "2021-03-11 08:49:06,859 : INFO : worker thread finished; awaiting finish of 2 more threads\n",
      "2021-03-11 08:49:06,863 : INFO : worker thread finished; awaiting finish of 1 more threads\n",
      "2021-03-11 08:49:06,944 : INFO : worker thread finished; awaiting finish of 0 more threads\n",
      "2021-03-11 08:49:06,949 : INFO : EPOCH - 7 : training on 97786 raw words (97660 effective words) took 2.5s, 39505 effective words/s\n",
      "2021-03-11 08:49:07,886 : INFO : worker thread finished; awaiting finish of 9 more threads\n",
      "2021-03-11 08:49:08,451 : INFO : EPOCH 8 - PROGRESS: at 16.72% examples, 13567 words/s, in_qsize 8, out_qsize 1\n",
      "2021-03-11 08:49:08,453 : INFO : worker thread finished; awaiting finish of 8 more threads\n",
      "2021-03-11 08:49:08,747 : INFO : worker thread finished; awaiting finish of 7 more threads\n",
      "2021-03-11 08:49:08,831 : INFO : worker thread finished; awaiting finish of 6 more threads\n",
      "2021-03-11 08:49:08,972 : INFO : worker thread finished; awaiting finish of 5 more threads\n",
      "2021-03-11 08:49:09,008 : INFO : worker thread finished; awaiting finish of 4 more threads\n",
      "2021-03-11 08:49:09,165 : INFO : worker thread finished; awaiting finish of 3 more threads\n",
      "2021-03-11 08:49:09,356 : INFO : worker thread finished; awaiting finish of 2 more threads\n",
      "2021-03-11 08:49:09,377 : INFO : worker thread finished; awaiting finish of 1 more threads\n",
      "2021-03-11 08:49:09,424 : INFO : worker thread finished; awaiting finish of 0 more threads\n",
      "2021-03-11 08:49:09,425 : INFO : EPOCH - 8 : training on 97786 raw words (97663 effective words) took 2.4s, 40090 effective words/s\n",
      "2021-03-11 08:49:10,956 : INFO : EPOCH 9 - PROGRESS: at 24.43% examples, 6534 words/s, in_qsize 10, out_qsize 0\n",
      "2021-03-11 08:49:11,169 : INFO : worker thread finished; awaiting finish of 9 more threads\n",
      "2021-03-11 08:49:11,267 : INFO : worker thread finished; awaiting finish of 8 more threads\n",
      "2021-03-11 08:49:11,379 : INFO : worker thread finished; awaiting finish of 7 more threads\n",
      "2021-03-11 08:49:11,431 : INFO : worker thread finished; awaiting finish of 6 more threads\n",
      "2021-03-11 08:49:11,587 : INFO : worker thread finished; awaiting finish of 5 more threads\n",
      "2021-03-11 08:49:11,631 : INFO : worker thread finished; awaiting finish of 4 more threads\n",
      "2021-03-11 08:49:11,660 : INFO : worker thread finished; awaiting finish of 3 more threads\n",
      "2021-03-11 08:49:11,718 : INFO : worker thread finished; awaiting finish of 2 more threads\n",
      "2021-03-11 08:49:11,725 : INFO : worker thread finished; awaiting finish of 1 more threads\n",
      "2021-03-11 08:49:11,771 : INFO : worker thread finished; awaiting finish of 0 more threads\n",
      "2021-03-11 08:49:11,772 : INFO : EPOCH - 9 : training on 97786 raw words (97661 effective words) took 2.3s, 41801 effective words/s\n",
      "2021-03-11 08:49:13,233 : INFO : EPOCH 10 - PROGRESS: at 24.43% examples, 6846 words/s, in_qsize 10, out_qsize 0\n",
      "2021-03-11 08:49:13,372 : INFO : worker thread finished; awaiting finish of 9 more threads\n",
      "2021-03-11 08:49:13,394 : INFO : worker thread finished; awaiting finish of 8 more threads\n",
      "2021-03-11 08:49:13,427 : INFO : worker thread finished; awaiting finish of 7 more threads\n",
      "2021-03-11 08:49:13,470 : INFO : worker thread finished; awaiting finish of 6 more threads\n",
      "2021-03-11 08:49:13,841 : INFO : worker thread finished; awaiting finish of 5 more threads\n",
      "2021-03-11 08:49:13,905 : INFO : worker thread finished; awaiting finish of 4 more threads\n",
      "2021-03-11 08:49:13,927 : INFO : worker thread finished; awaiting finish of 3 more threads\n",
      "2021-03-11 08:49:14,155 : INFO : worker thread finished; awaiting finish of 2 more threads\n",
      "2021-03-11 08:49:14,167 : INFO : worker thread finished; awaiting finish of 1 more threads\n",
      "2021-03-11 08:49:14,233 : INFO : EPOCH 10 - PROGRESS: at 100.00% examples, 39817 words/s, in_qsize 0, out_qsize 1\n",
      "2021-03-11 08:49:14,235 : INFO : worker thread finished; awaiting finish of 0 more threads\n",
      "2021-03-11 08:49:14,238 : INFO : EPOCH - 10 : training on 97786 raw words (97649 effective words) took 2.5s, 39744 effective words/s\n",
      "2021-03-11 08:49:15,166 : INFO : worker thread finished; awaiting finish of 9 more threads\n",
      "2021-03-11 08:49:15,782 : INFO : EPOCH 11 - PROGRESS: at 33.44% examples, 13401 words/s, in_qsize 8, out_qsize 1\n",
      "2021-03-11 08:49:15,784 : INFO : worker thread finished; awaiting finish of 8 more threads\n",
      "2021-03-11 08:49:15,974 : INFO : worker thread finished; awaiting finish of 7 more threads\n",
      "2021-03-11 08:49:16,124 : INFO : worker thread finished; awaiting finish of 6 more threads\n",
      "2021-03-11 08:49:16,338 : INFO : worker thread finished; awaiting finish of 5 more threads\n",
      "2021-03-11 08:49:16,422 : INFO : worker thread finished; awaiting finish of 4 more threads\n",
      "2021-03-11 08:49:16,456 : INFO : worker thread finished; awaiting finish of 3 more threads\n",
      "2021-03-11 08:49:16,483 : INFO : worker thread finished; awaiting finish of 2 more threads\n",
      "2021-03-11 08:49:16,503 : INFO : worker thread finished; awaiting finish of 1 more threads\n",
      "2021-03-11 08:49:16,544 : INFO : worker thread finished; awaiting finish of 0 more threads\n",
      "2021-03-11 08:49:16,546 : INFO : EPOCH - 11 : training on 97786 raw words (97662 effective words) took 2.3s, 42605 effective words/s\n",
      "2021-03-11 08:49:18,195 : INFO : EPOCH 12 - PROGRESS: at 24.43% examples, 6055 words/s, in_qsize 10, out_qsize 0\n",
      "2021-03-11 08:49:18,321 : INFO : worker thread finished; awaiting finish of 9 more threads\n",
      "2021-03-11 08:49:18,334 : INFO : worker thread finished; awaiting finish of 8 more threads\n",
      "2021-03-11 08:49:18,525 : INFO : worker thread finished; awaiting finish of 7 more threads\n",
      "2021-03-11 08:49:18,549 : INFO : worker thread finished; awaiting finish of 6 more threads\n",
      "2021-03-11 08:49:18,607 : INFO : worker thread finished; awaiting finish of 5 more threads\n",
      "2021-03-11 08:49:18,643 : INFO : worker thread finished; awaiting finish of 4 more threads\n",
      "2021-03-11 08:49:18,767 : INFO : worker thread finished; awaiting finish of 3 more threads\n",
      "2021-03-11 08:49:18,850 : INFO : worker thread finished; awaiting finish of 2 more threads\n",
      "2021-03-11 08:49:18,889 : INFO : worker thread finished; awaiting finish of 1 more threads\n",
      "2021-03-11 08:49:18,900 : INFO : worker thread finished; awaiting finish of 0 more threads\n",
      "2021-03-11 08:49:18,902 : INFO : EPOCH - 12 : training on 97786 raw words (97643 effective words) took 2.3s, 41616 effective words/s\n",
      "2021-03-11 08:49:20,574 : INFO : EPOCH 13 - PROGRESS: at 7.05% examples, 5540 words/s, in_qsize 10, out_qsize 0\n",
      "2021-03-11 08:49:20,635 : INFO : worker thread finished; awaiting finish of 9 more threads\n",
      "2021-03-11 08:49:20,723 : INFO : worker thread finished; awaiting finish of 8 more threads\n",
      "2021-03-11 08:49:20,736 : INFO : worker thread finished; awaiting finish of 7 more threads\n",
      "2021-03-11 08:49:20,911 : INFO : worker thread finished; awaiting finish of 6 more threads\n",
      "2021-03-11 08:49:21,122 : INFO : worker thread finished; awaiting finish of 5 more threads\n",
      "2021-03-11 08:49:21,232 : INFO : worker thread finished; awaiting finish of 4 more threads\n",
      "2021-03-11 08:49:21,253 : INFO : worker thread finished; awaiting finish of 3 more threads\n",
      "2021-03-11 08:49:21,262 : INFO : worker thread finished; awaiting finish of 2 more threads\n"
     ]
    },
    {
     "name": "stderr",
     "output_type": "stream",
     "text": [
      "2021-03-11 08:49:21,280 : INFO : worker thread finished; awaiting finish of 1 more threads\n",
      "2021-03-11 08:49:21,360 : INFO : worker thread finished; awaiting finish of 0 more threads\n",
      "2021-03-11 08:49:21,363 : INFO : EPOCH - 13 : training on 97786 raw words (97651 effective words) took 2.5s, 39857 effective words/s\n",
      "2021-03-11 08:49:23,070 : INFO : EPOCH 14 - PROGRESS: at 6.72% examples, 5896 words/s, in_qsize 10, out_qsize 0\n",
      "2021-03-11 08:49:23,152 : INFO : worker thread finished; awaiting finish of 9 more threads\n",
      "2021-03-11 08:49:23,180 : INFO : worker thread finished; awaiting finish of 8 more threads\n",
      "2021-03-11 08:49:23,222 : INFO : worker thread finished; awaiting finish of 7 more threads\n",
      "2021-03-11 08:49:23,226 : INFO : worker thread finished; awaiting finish of 6 more threads\n",
      "2021-03-11 08:49:23,527 : INFO : worker thread finished; awaiting finish of 5 more threads\n",
      "2021-03-11 08:49:23,545 : INFO : worker thread finished; awaiting finish of 4 more threads\n",
      "2021-03-11 08:49:23,642 : INFO : worker thread finished; awaiting finish of 3 more threads\n",
      "2021-03-11 08:49:23,742 : INFO : worker thread finished; awaiting finish of 2 more threads\n",
      "2021-03-11 08:49:23,759 : INFO : worker thread finished; awaiting finish of 1 more threads\n",
      "2021-03-11 08:49:23,768 : INFO : worker thread finished; awaiting finish of 0 more threads\n",
      "2021-03-11 08:49:23,769 : INFO : EPOCH - 14 : training on 97786 raw words (97657 effective words) took 2.4s, 40833 effective words/s\n",
      "2021-03-11 08:49:24,777 : INFO : worker thread finished; awaiting finish of 9 more threads\n",
      "2021-03-11 08:49:24,786 : INFO : worker thread finished; awaiting finish of 8 more threads\n",
      "2021-03-11 08:49:25,319 : INFO : EPOCH 15 - PROGRESS: at 24.43% examples, 20491 words/s, in_qsize 7, out_qsize 1\n",
      "2021-03-11 08:49:25,321 : INFO : worker thread finished; awaiting finish of 7 more threads\n",
      "2021-03-11 08:49:25,335 : INFO : worker thread finished; awaiting finish of 6 more threads\n",
      "2021-03-11 08:49:25,339 : INFO : worker thread finished; awaiting finish of 5 more threads\n",
      "2021-03-11 08:49:25,837 : INFO : worker thread finished; awaiting finish of 4 more threads\n",
      "2021-03-11 08:49:25,851 : INFO : worker thread finished; awaiting finish of 3 more threads\n",
      "2021-03-11 08:49:25,945 : INFO : worker thread finished; awaiting finish of 2 more threads\n",
      "2021-03-11 08:49:26,041 : INFO : worker thread finished; awaiting finish of 1 more threads\n",
      "2021-03-11 08:49:26,053 : INFO : worker thread finished; awaiting finish of 0 more threads\n",
      "2021-03-11 08:49:26,056 : INFO : EPOCH - 15 : training on 97786 raw words (97659 effective words) took 2.2s, 43802 effective words/s\n",
      "2021-03-11 08:49:27,628 : INFO : EPOCH 16 - PROGRESS: at 5.90% examples, 6327 words/s, in_qsize 10, out_qsize 0\n",
      "2021-03-11 08:49:27,734 : INFO : worker thread finished; awaiting finish of 9 more threads\n",
      "2021-03-11 08:49:27,758 : INFO : worker thread finished; awaiting finish of 8 more threads\n",
      "2021-03-11 08:49:27,805 : INFO : worker thread finished; awaiting finish of 7 more threads\n",
      "2021-03-11 08:49:27,839 : INFO : worker thread finished; awaiting finish of 6 more threads\n",
      "2021-03-11 08:49:27,881 : INFO : worker thread finished; awaiting finish of 5 more threads\n",
      "2021-03-11 08:49:27,965 : INFO : worker thread finished; awaiting finish of 4 more threads\n",
      "2021-03-11 08:49:28,316 : INFO : worker thread finished; awaiting finish of 3 more threads\n",
      "2021-03-11 08:49:28,329 : INFO : worker thread finished; awaiting finish of 2 more threads\n",
      "2021-03-11 08:49:28,380 : INFO : worker thread finished; awaiting finish of 1 more threads\n",
      "2021-03-11 08:49:28,422 : INFO : worker thread finished; awaiting finish of 0 more threads\n",
      "2021-03-11 08:49:28,424 : INFO : EPOCH - 16 : training on 97786 raw words (97642 effective words) took 2.4s, 41399 effective words/s\n",
      "2021-03-11 08:49:29,473 : INFO : EPOCH 17 - PROGRESS: at 8.20% examples, 9635 words/s, in_qsize 9, out_qsize 1\n",
      "2021-03-11 08:49:29,476 : INFO : worker thread finished; awaiting finish of 9 more threads\n",
      "2021-03-11 08:49:30,071 : INFO : worker thread finished; awaiting finish of 8 more threads\n",
      "2021-03-11 08:49:30,274 : INFO : worker thread finished; awaiting finish of 7 more threads\n",
      "2021-03-11 08:49:30,319 : INFO : worker thread finished; awaiting finish of 6 more threads\n",
      "2021-03-11 08:49:30,711 : INFO : EPOCH 17 - PROGRESS: at 58.36% examples, 21537 words/s, in_qsize 5, out_qsize 1\n",
      "2021-03-11 08:49:30,713 : INFO : worker thread finished; awaiting finish of 5 more threads\n",
      "2021-03-11 08:49:30,791 : INFO : worker thread finished; awaiting finish of 4 more threads\n",
      "2021-03-11 08:49:30,816 : INFO : worker thread finished; awaiting finish of 3 more threads\n",
      "2021-03-11 08:49:30,840 : INFO : worker thread finished; awaiting finish of 2 more threads\n",
      "2021-03-11 08:49:30,902 : INFO : worker thread finished; awaiting finish of 1 more threads\n",
      "2021-03-11 08:49:30,920 : INFO : worker thread finished; awaiting finish of 0 more threads\n",
      "2021-03-11 08:49:30,923 : INFO : EPOCH - 17 : training on 97786 raw words (97660 effective words) took 2.5s, 39234 effective words/s\n",
      "2021-03-11 08:49:32,546 : INFO : EPOCH 18 - PROGRESS: at 12.46% examples, 5653 words/s, in_qsize 10, out_qsize 0\n",
      "2021-03-11 08:49:32,582 : INFO : worker thread finished; awaiting finish of 9 more threads\n",
      "2021-03-11 08:49:32,631 : INFO : worker thread finished; awaiting finish of 8 more threads\n",
      "2021-03-11 08:49:32,669 : INFO : worker thread finished; awaiting finish of 7 more threads\n",
      "2021-03-11 08:49:32,768 : INFO : worker thread finished; awaiting finish of 6 more threads\n",
      "2021-03-11 08:49:33,053 : INFO : worker thread finished; awaiting finish of 5 more threads\n",
      "2021-03-11 08:49:33,097 : INFO : worker thread finished; awaiting finish of 4 more threads\n",
      "2021-03-11 08:49:33,158 : INFO : worker thread finished; awaiting finish of 3 more threads\n",
      "2021-03-11 08:49:33,253 : INFO : worker thread finished; awaiting finish of 2 more threads\n",
      "2021-03-11 08:49:33,345 : INFO : worker thread finished; awaiting finish of 1 more threads\n",
      "2021-03-11 08:49:33,373 : INFO : worker thread finished; awaiting finish of 0 more threads\n",
      "2021-03-11 08:49:33,375 : INFO : EPOCH - 18 : training on 97786 raw words (97649 effective words) took 2.4s, 40465 effective words/s\n",
      "2021-03-11 08:49:34,954 : INFO : EPOCH 19 - PROGRESS: at 24.43% examples, 6335 words/s, in_qsize 10, out_qsize 0\n",
      "2021-03-11 08:49:35,106 : INFO : worker thread finished; awaiting finish of 9 more threads\n",
      "2021-03-11 08:49:35,136 : INFO : worker thread finished; awaiting finish of 8 more threads\n",
      "2021-03-11 08:49:35,159 : INFO : worker thread finished; awaiting finish of 7 more threads\n",
      "2021-03-11 08:49:35,253 : INFO : worker thread finished; awaiting finish of 6 more threads\n",
      "2021-03-11 08:49:35,471 : INFO : worker thread finished; awaiting finish of 5 more threads\n",
      "2021-03-11 08:49:35,535 : INFO : worker thread finished; awaiting finish of 4 more threads\n",
      "2021-03-11 08:49:35,571 : INFO : worker thread finished; awaiting finish of 3 more threads\n",
      "2021-03-11 08:49:35,655 : INFO : worker thread finished; awaiting finish of 2 more threads\n",
      "2021-03-11 08:49:35,658 : INFO : worker thread finished; awaiting finish of 1 more threads\n",
      "2021-03-11 08:49:35,669 : INFO : worker thread finished; awaiting finish of 0 more threads\n",
      "2021-03-11 08:49:35,670 : INFO : EPOCH - 19 : training on 97786 raw words (97648 effective words) took 2.3s, 42751 effective words/s\n",
      "2021-03-11 08:49:37,408 : INFO : EPOCH 20 - PROGRESS: at 7.05% examples, 5330 words/s, in_qsize 10, out_qsize 0\n",
      "2021-03-11 08:49:37,535 : INFO : worker thread finished; awaiting finish of 9 more threads\n",
      "2021-03-11 08:49:37,597 : INFO : worker thread finished; awaiting finish of 8 more threads\n",
      "2021-03-11 08:49:37,624 : INFO : worker thread finished; awaiting finish of 7 more threads\n",
      "2021-03-11 08:49:37,632 : INFO : worker thread finished; awaiting finish of 6 more threads\n",
      "2021-03-11 08:49:37,775 : INFO : worker thread finished; awaiting finish of 5 more threads\n",
      "2021-03-11 08:49:37,951 : INFO : worker thread finished; awaiting finish of 4 more threads\n",
      "2021-03-11 08:49:37,985 : INFO : worker thread finished; awaiting finish of 3 more threads\n",
      "2021-03-11 08:49:38,003 : INFO : worker thread finished; awaiting finish of 2 more threads\n"
     ]
    },
    {
     "name": "stderr",
     "output_type": "stream",
     "text": [
      "2021-03-11 08:49:38,025 : INFO : worker thread finished; awaiting finish of 1 more threads\n",
      "2021-03-11 08:49:38,029 : INFO : worker thread finished; awaiting finish of 0 more threads\n",
      "2021-03-11 08:49:38,031 : INFO : EPOCH - 20 : training on 97786 raw words (97676 effective words) took 2.4s, 41547 effective words/s\n",
      "2021-03-11 08:49:39,622 : INFO : EPOCH 21 - PROGRESS: at 12.46% examples, 5666 words/s, in_qsize 10, out_qsize 0\n",
      "2021-03-11 08:49:39,659 : INFO : worker thread finished; awaiting finish of 9 more threads\n",
      "2021-03-11 08:49:39,715 : INFO : worker thread finished; awaiting finish of 8 more threads\n",
      "2021-03-11 08:49:40,091 : INFO : worker thread finished; awaiting finish of 7 more threads\n",
      "2021-03-11 08:49:40,131 : INFO : worker thread finished; awaiting finish of 6 more threads\n",
      "2021-03-11 08:49:40,133 : INFO : worker thread finished; awaiting finish of 5 more threads\n",
      "2021-03-11 08:49:40,289 : INFO : worker thread finished; awaiting finish of 4 more threads\n",
      "2021-03-11 08:49:40,301 : INFO : worker thread finished; awaiting finish of 3 more threads\n",
      "2021-03-11 08:49:40,357 : INFO : worker thread finished; awaiting finish of 2 more threads\n",
      "2021-03-11 08:49:40,463 : INFO : worker thread finished; awaiting finish of 1 more threads\n",
      "2021-03-11 08:49:40,499 : INFO : worker thread finished; awaiting finish of 0 more threads\n",
      "2021-03-11 08:49:40,501 : INFO : EPOCH - 21 : training on 97786 raw words (97648 effective words) took 2.5s, 39704 effective words/s\n",
      "2021-03-11 08:49:41,418 : INFO : worker thread finished; awaiting finish of 9 more threads\n",
      "2021-03-11 08:49:41,842 : INFO : EPOCH 22 - PROGRESS: at 31.48% examples, 15850 words/s, in_qsize 8, out_qsize 1\n",
      "2021-03-11 08:49:41,844 : INFO : worker thread finished; awaiting finish of 8 more threads\n",
      "2021-03-11 08:49:41,937 : INFO : worker thread finished; awaiting finish of 7 more threads\n",
      "2021-03-11 08:49:42,391 : INFO : worker thread finished; awaiting finish of 6 more threads\n",
      "2021-03-11 08:49:42,558 : INFO : worker thread finished; awaiting finish of 5 more threads\n",
      "2021-03-11 08:49:42,646 : INFO : worker thread finished; awaiting finish of 4 more threads\n",
      "2021-03-11 08:49:42,688 : INFO : worker thread finished; awaiting finish of 3 more threads\n",
      "2021-03-11 08:49:42,782 : INFO : worker thread finished; awaiting finish of 2 more threads\n",
      "2021-03-11 08:49:42,855 : INFO : EPOCH 22 - PROGRESS: at 91.97% examples, 37878 words/s, in_qsize 1, out_qsize 1\n",
      "2021-03-11 08:49:42,856 : INFO : worker thread finished; awaiting finish of 1 more threads\n",
      "2021-03-11 08:49:42,866 : INFO : worker thread finished; awaiting finish of 0 more threads\n",
      "2021-03-11 08:49:42,868 : INFO : EPOCH - 22 : training on 97786 raw words (97647 effective words) took 2.3s, 41935 effective words/s\n",
      "2021-03-11 08:49:44,371 : INFO : EPOCH 23 - PROGRESS: at 24.43% examples, 6658 words/s, in_qsize 10, out_qsize 0\n",
      "2021-03-11 08:49:44,415 : INFO : worker thread finished; awaiting finish of 9 more threads\n",
      "2021-03-11 08:49:44,629 : INFO : worker thread finished; awaiting finish of 8 more threads\n",
      "2021-03-11 08:49:44,701 : INFO : worker thread finished; awaiting finish of 7 more threads\n",
      "2021-03-11 08:49:44,751 : INFO : worker thread finished; awaiting finish of 6 more threads\n",
      "2021-03-11 08:49:44,846 : INFO : worker thread finished; awaiting finish of 5 more threads\n",
      "2021-03-11 08:49:44,910 : INFO : worker thread finished; awaiting finish of 4 more threads\n",
      "2021-03-11 08:49:44,925 : INFO : worker thread finished; awaiting finish of 3 more threads\n",
      "2021-03-11 08:49:45,032 : INFO : worker thread finished; awaiting finish of 2 more threads\n",
      "2021-03-11 08:49:45,060 : INFO : worker thread finished; awaiting finish of 1 more threads\n",
      "2021-03-11 08:49:45,093 : INFO : worker thread finished; awaiting finish of 0 more threads\n",
      "2021-03-11 08:49:45,094 : INFO : EPOCH - 23 : training on 97786 raw words (97651 effective words) took 2.2s, 44080 effective words/s\n",
      "2021-03-11 08:49:46,011 : INFO : worker thread finished; awaiting finish of 9 more threads\n",
      "2021-03-11 08:49:46,363 : INFO : EPOCH 24 - PROGRESS: at 24.75% examples, 15240 words/s, in_qsize 8, out_qsize 1\n",
      "2021-03-11 08:49:46,365 : INFO : worker thread finished; awaiting finish of 8 more threads\n",
      "2021-03-11 08:49:46,370 : INFO : worker thread finished; awaiting finish of 7 more threads\n",
      "2021-03-11 08:49:46,776 : INFO : worker thread finished; awaiting finish of 6 more threads\n",
      "2021-03-11 08:49:46,852 : INFO : worker thread finished; awaiting finish of 5 more threads\n",
      "2021-03-11 08:49:46,944 : INFO : worker thread finished; awaiting finish of 4 more threads\n",
      "2021-03-11 08:49:47,221 : INFO : worker thread finished; awaiting finish of 3 more threads\n",
      "2021-03-11 08:49:47,312 : INFO : worker thread finished; awaiting finish of 2 more threads\n",
      "2021-03-11 08:49:47,317 : INFO : worker thread finished; awaiting finish of 1 more threads\n",
      "2021-03-11 08:49:47,465 : INFO : EPOCH 24 - PROGRESS: at 100.00% examples, 41347 words/s, in_qsize 0, out_qsize 1\n",
      "2021-03-11 08:49:47,467 : INFO : worker thread finished; awaiting finish of 0 more threads\n",
      "2021-03-11 08:49:47,468 : INFO : EPOCH - 24 : training on 97786 raw words (97654 effective words) took 2.4s, 41285 effective words/s\n",
      "2021-03-11 08:49:49,039 : INFO : EPOCH 25 - PROGRESS: at 11.15% examples, 6136 words/s, in_qsize 10, out_qsize 0\n",
      "2021-03-11 08:49:49,122 : INFO : worker thread finished; awaiting finish of 9 more threads\n",
      "2021-03-11 08:49:49,142 : INFO : worker thread finished; awaiting finish of 8 more threads\n",
      "2021-03-11 08:49:49,298 : INFO : worker thread finished; awaiting finish of 7 more threads\n",
      "2021-03-11 08:49:49,321 : INFO : worker thread finished; awaiting finish of 6 more threads\n",
      "2021-03-11 08:49:49,341 : INFO : worker thread finished; awaiting finish of 5 more threads\n",
      "2021-03-11 08:49:49,351 : INFO : worker thread finished; awaiting finish of 4 more threads\n",
      "2021-03-11 08:49:49,689 : INFO : worker thread finished; awaiting finish of 3 more threads\n",
      "2021-03-11 08:49:49,756 : INFO : worker thread finished; awaiting finish of 2 more threads\n",
      "2021-03-11 08:49:49,912 : INFO : worker thread finished; awaiting finish of 1 more threads\n",
      "2021-03-11 08:49:49,953 : INFO : worker thread finished; awaiting finish of 0 more threads\n",
      "2021-03-11 08:49:49,955 : INFO : EPOCH - 25 : training on 97786 raw words (97654 effective words) took 2.5s, 39804 effective words/s\n",
      "2021-03-11 08:49:51,555 : INFO : EPOCH 26 - PROGRESS: at 5.90% examples, 6222 words/s, in_qsize 10, out_qsize 0\n",
      "2021-03-11 08:49:51,584 : INFO : worker thread finished; awaiting finish of 9 more threads\n",
      "2021-03-11 08:49:51,690 : INFO : worker thread finished; awaiting finish of 8 more threads\n",
      "2021-03-11 08:49:51,742 : INFO : worker thread finished; awaiting finish of 7 more threads\n",
      "2021-03-11 08:49:51,888 : INFO : worker thread finished; awaiting finish of 6 more threads\n",
      "2021-03-11 08:49:51,937 : INFO : worker thread finished; awaiting finish of 5 more threads\n",
      "2021-03-11 08:49:51,980 : INFO : worker thread finished; awaiting finish of 4 more threads\n",
      "2021-03-11 08:49:52,090 : INFO : worker thread finished; awaiting finish of 3 more threads\n",
      "2021-03-11 08:49:52,279 : INFO : worker thread finished; awaiting finish of 2 more threads\n",
      "2021-03-11 08:49:52,305 : INFO : worker thread finished; awaiting finish of 1 more threads\n",
      "2021-03-11 08:49:52,327 : INFO : worker thread finished; awaiting finish of 0 more threads\n",
      "2021-03-11 08:49:52,329 : INFO : EPOCH - 26 : training on 97786 raw words (97663 effective words) took 2.4s, 41336 effective words/s\n",
      "2021-03-11 08:49:53,900 : INFO : EPOCH 27 - PROGRESS: at 7.05% examples, 5892 words/s, in_qsize 10, out_qsize 0\n",
      "2021-03-11 08:49:54,002 : INFO : worker thread finished; awaiting finish of 9 more threads\n",
      "2021-03-11 08:49:54,094 : INFO : worker thread finished; awaiting finish of 8 more threads\n",
      "2021-03-11 08:49:54,105 : INFO : worker thread finished; awaiting finish of 7 more threads\n",
      "2021-03-11 08:49:54,220 : INFO : worker thread finished; awaiting finish of 6 more threads\n",
      "2021-03-11 08:49:54,270 : INFO : worker thread finished; awaiting finish of 5 more threads\n",
      "2021-03-11 08:49:54,446 : INFO : worker thread finished; awaiting finish of 4 more threads\n",
      "2021-03-11 08:49:54,477 : INFO : worker thread finished; awaiting finish of 3 more threads\n"
     ]
    },
    {
     "name": "stderr",
     "output_type": "stream",
     "text": [
      "2021-03-11 08:49:54,508 : INFO : worker thread finished; awaiting finish of 2 more threads\n",
      "2021-03-11 08:49:54,512 : INFO : worker thread finished; awaiting finish of 1 more threads\n",
      "2021-03-11 08:49:54,581 : INFO : worker thread finished; awaiting finish of 0 more threads\n",
      "2021-03-11 08:49:54,582 : INFO : EPOCH - 27 : training on 97786 raw words (97642 effective words) took 2.2s, 43499 effective words/s\n",
      "2021-03-11 08:49:55,558 : INFO : worker thread finished; awaiting finish of 9 more threads\n",
      "2021-03-11 08:49:56,083 : INFO : EPOCH 28 - PROGRESS: at 16.39% examples, 13824 words/s, in_qsize 8, out_qsize 1\n",
      "2021-03-11 08:49:56,085 : INFO : worker thread finished; awaiting finish of 8 more threads\n",
      "2021-03-11 08:49:56,275 : INFO : worker thread finished; awaiting finish of 7 more threads\n",
      "2021-03-11 08:49:56,415 : INFO : worker thread finished; awaiting finish of 6 more threads\n",
      "2021-03-11 08:49:56,547 : INFO : worker thread finished; awaiting finish of 5 more threads\n",
      "2021-03-11 08:49:56,692 : INFO : worker thread finished; awaiting finish of 4 more threads\n",
      "2021-03-11 08:49:56,696 : INFO : worker thread finished; awaiting finish of 3 more threads\n",
      "2021-03-11 08:49:56,816 : INFO : worker thread finished; awaiting finish of 2 more threads\n",
      "2021-03-11 08:49:56,862 : INFO : worker thread finished; awaiting finish of 1 more threads\n",
      "2021-03-11 08:49:56,876 : INFO : worker thread finished; awaiting finish of 0 more threads\n",
      "2021-03-11 08:49:56,879 : INFO : EPOCH - 28 : training on 97786 raw words (97646 effective words) took 2.3s, 42779 effective words/s\n",
      "2021-03-11 08:49:57,937 : INFO : EPOCH 29 - PROGRESS: at 11.15% examples, 9303 words/s, in_qsize 10, out_qsize 0\n",
      "2021-03-11 08:49:58,051 : INFO : worker thread finished; awaiting finish of 9 more threads\n",
      "2021-03-11 08:49:58,416 : INFO : worker thread finished; awaiting finish of 8 more threads\n",
      "2021-03-11 08:49:58,470 : INFO : worker thread finished; awaiting finish of 7 more threads\n",
      "2021-03-11 08:49:58,554 : INFO : worker thread finished; awaiting finish of 6 more threads\n",
      "2021-03-11 08:49:58,744 : INFO : worker thread finished; awaiting finish of 5 more threads\n",
      "2021-03-11 08:49:58,794 : INFO : worker thread finished; awaiting finish of 4 more threads\n",
      "2021-03-11 08:49:59,068 : INFO : EPOCH 29 - PROGRESS: at 56.39% examples, 32052 words/s, in_qsize 3, out_qsize 1\n",
      "2021-03-11 08:49:59,071 : INFO : worker thread finished; awaiting finish of 3 more threads\n",
      "2021-03-11 08:49:59,093 : INFO : worker thread finished; awaiting finish of 2 more threads\n",
      "2021-03-11 08:49:59,133 : INFO : worker thread finished; awaiting finish of 1 more threads\n",
      "2021-03-11 08:49:59,202 : INFO : worker thread finished; awaiting finish of 0 more threads\n",
      "2021-03-11 08:49:59,204 : INFO : EPOCH - 29 : training on 97786 raw words (97642 effective words) took 2.3s, 42788 effective words/s\n",
      "2021-03-11 08:50:00,234 : INFO : EPOCH 30 - PROGRESS: at 9.67% examples, 10430 words/s, in_qsize 9, out_qsize 1\n",
      "2021-03-11 08:50:00,236 : INFO : worker thread finished; awaiting finish of 9 more threads\n",
      "2021-03-11 08:50:00,524 : INFO : worker thread finished; awaiting finish of 8 more threads\n",
      "2021-03-11 08:50:00,576 : INFO : worker thread finished; awaiting finish of 7 more threads\n",
      "2021-03-11 08:50:01,078 : INFO : worker thread finished; awaiting finish of 6 more threads\n",
      "2021-03-11 08:50:01,155 : INFO : worker thread finished; awaiting finish of 5 more threads\n",
      "2021-03-11 08:50:01,282 : INFO : EPOCH 30 - PROGRESS: at 72.46% examples, 28463 words/s, in_qsize 4, out_qsize 1\n",
      "2021-03-11 08:50:01,284 : INFO : worker thread finished; awaiting finish of 4 more threads\n",
      "2021-03-11 08:50:01,332 : INFO : worker thread finished; awaiting finish of 3 more threads\n",
      "2021-03-11 08:50:01,404 : INFO : worker thread finished; awaiting finish of 2 more threads\n",
      "2021-03-11 08:50:01,445 : INFO : worker thread finished; awaiting finish of 1 more threads\n",
      "2021-03-11 08:50:01,471 : INFO : worker thread finished; awaiting finish of 0 more threads\n",
      "2021-03-11 08:50:01,472 : INFO : EPOCH - 30 : training on 97786 raw words (97650 effective words) took 2.3s, 43254 effective words/s\n",
      "2021-03-11 08:50:02,609 : INFO : EPOCH 31 - PROGRESS: at 6.72% examples, 8864 words/s, in_qsize 10, out_qsize 0\n",
      "2021-03-11 08:50:02,677 : INFO : worker thread finished; awaiting finish of 9 more threads\n",
      "2021-03-11 08:50:03,101 : INFO : worker thread finished; awaiting finish of 8 more threads\n",
      "2021-03-11 08:50:03,297 : INFO : worker thread finished; awaiting finish of 7 more threads\n",
      "2021-03-11 08:50:03,364 : INFO : worker thread finished; awaiting finish of 6 more threads\n",
      "2021-03-11 08:50:03,584 : INFO : worker thread finished; awaiting finish of 5 more threads\n",
      "2021-03-11 08:50:03,605 : INFO : worker thread finished; awaiting finish of 4 more threads\n",
      "2021-03-11 08:50:03,709 : INFO : EPOCH 31 - PROGRESS: at 72.46% examples, 30850 words/s, in_qsize 3, out_qsize 1\n",
      "2021-03-11 08:50:03,714 : INFO : worker thread finished; awaiting finish of 3 more threads\n",
      "2021-03-11 08:50:03,772 : INFO : worker thread finished; awaiting finish of 2 more threads\n",
      "2021-03-11 08:50:03,841 : INFO : worker thread finished; awaiting finish of 1 more threads\n",
      "2021-03-11 08:50:03,871 : INFO : worker thread finished; awaiting finish of 0 more threads\n",
      "2021-03-11 08:50:03,873 : INFO : EPOCH - 31 : training on 97786 raw words (97647 effective words) took 2.4s, 40860 effective words/s\n",
      "2021-03-11 08:50:05,476 : INFO : EPOCH 32 - PROGRESS: at 12.46% examples, 5700 words/s, in_qsize 10, out_qsize 0\n",
      "2021-03-11 08:50:05,526 : INFO : worker thread finished; awaiting finish of 9 more threads\n",
      "2021-03-11 08:50:05,614 : INFO : worker thread finished; awaiting finish of 8 more threads\n",
      "2021-03-11 08:50:05,621 : INFO : worker thread finished; awaiting finish of 7 more threads\n",
      "2021-03-11 08:50:05,662 : INFO : worker thread finished; awaiting finish of 6 more threads\n",
      "2021-03-11 08:50:06,052 : INFO : worker thread finished; awaiting finish of 5 more threads\n",
      "2021-03-11 08:50:06,074 : INFO : worker thread finished; awaiting finish of 4 more threads\n",
      "2021-03-11 08:50:06,135 : INFO : worker thread finished; awaiting finish of 3 more threads\n",
      "2021-03-11 08:50:06,164 : INFO : worker thread finished; awaiting finish of 2 more threads\n",
      "2021-03-11 08:50:06,168 : INFO : worker thread finished; awaiting finish of 1 more threads\n",
      "2021-03-11 08:50:06,201 : INFO : worker thread finished; awaiting finish of 0 more threads\n",
      "2021-03-11 08:50:06,204 : INFO : EPOCH - 32 : training on 97786 raw words (97669 effective words) took 2.3s, 42484 effective words/s\n",
      "2021-03-11 08:50:07,998 : INFO : EPOCH 33 - PROGRESS: at 7.05% examples, 5315 words/s, in_qsize 10, out_qsize 0\n",
      "2021-03-11 08:50:08,160 : INFO : worker thread finished; awaiting finish of 9 more threads\n",
      "2021-03-11 08:50:08,167 : INFO : worker thread finished; awaiting finish of 8 more threads\n",
      "2021-03-11 08:50:08,212 : INFO : worker thread finished; awaiting finish of 7 more threads\n",
      "2021-03-11 08:50:08,266 : INFO : worker thread finished; awaiting finish of 6 more threads\n",
      "2021-03-11 08:50:08,395 : INFO : worker thread finished; awaiting finish of 5 more threads\n",
      "2021-03-11 08:50:08,494 : INFO : worker thread finished; awaiting finish of 4 more threads\n",
      "2021-03-11 08:50:08,538 : INFO : worker thread finished; awaiting finish of 3 more threads\n",
      "2021-03-11 08:50:08,569 : INFO : worker thread finished; awaiting finish of 2 more threads\n",
      "2021-03-11 08:50:08,600 : INFO : worker thread finished; awaiting finish of 1 more threads\n",
      "2021-03-11 08:50:08,607 : INFO : worker thread finished; awaiting finish of 0 more threads\n",
      "2021-03-11 08:50:08,609 : INFO : EPOCH - 33 : training on 97786 raw words (97645 effective words) took 2.3s, 41681 effective words/s\n",
      "2021-03-11 08:50:10,134 : INFO : EPOCH 34 - PROGRESS: at 24.43% examples, 6570 words/s, in_qsize 10, out_qsize 0\n",
      "2021-03-11 08:50:10,180 : INFO : worker thread finished; awaiting finish of 9 more threads\n",
      "2021-03-11 08:50:10,218 : INFO : worker thread finished; awaiting finish of 8 more threads\n",
      "2021-03-11 08:50:10,305 : INFO : worker thread finished; awaiting finish of 7 more threads\n",
      "2021-03-11 08:50:10,375 : INFO : worker thread finished; awaiting finish of 6 more threads\n",
      "2021-03-11 08:50:10,570 : INFO : worker thread finished; awaiting finish of 5 more threads\n"
     ]
    },
    {
     "name": "stderr",
     "output_type": "stream",
     "text": [
      "2021-03-11 08:50:10,624 : INFO : worker thread finished; awaiting finish of 4 more threads\n",
      "2021-03-11 08:50:10,657 : INFO : worker thread finished; awaiting finish of 3 more threads\n",
      "2021-03-11 08:50:10,818 : INFO : worker thread finished; awaiting finish of 2 more threads\n",
      "2021-03-11 08:50:10,872 : INFO : worker thread finished; awaiting finish of 1 more threads\n",
      "2021-03-11 08:50:10,873 : INFO : worker thread finished; awaiting finish of 0 more threads\n",
      "2021-03-11 08:50:10,874 : INFO : EPOCH - 34 : training on 97786 raw words (97669 effective words) took 2.3s, 43356 effective words/s\n",
      "2021-03-11 08:50:12,598 : INFO : EPOCH 35 - PROGRESS: at 6.72% examples, 5815 words/s, in_qsize 10, out_qsize 0\n",
      "2021-03-11 08:50:12,663 : INFO : worker thread finished; awaiting finish of 9 more threads\n",
      "2021-03-11 08:50:12,767 : INFO : worker thread finished; awaiting finish of 8 more threads\n",
      "2021-03-11 08:50:12,944 : INFO : worker thread finished; awaiting finish of 7 more threads\n",
      "2021-03-11 08:50:12,969 : INFO : worker thread finished; awaiting finish of 6 more threads\n",
      "2021-03-11 08:50:13,007 : INFO : worker thread finished; awaiting finish of 5 more threads\n",
      "2021-03-11 08:50:13,010 : INFO : worker thread finished; awaiting finish of 4 more threads\n",
      "2021-03-11 08:50:13,075 : INFO : worker thread finished; awaiting finish of 3 more threads\n",
      "2021-03-11 08:50:13,192 : INFO : worker thread finished; awaiting finish of 2 more threads\n",
      "2021-03-11 08:50:13,234 : INFO : worker thread finished; awaiting finish of 1 more threads\n",
      "2021-03-11 08:50:13,274 : INFO : worker thread finished; awaiting finish of 0 more threads\n",
      "2021-03-11 08:50:13,276 : INFO : EPOCH - 35 : training on 97786 raw words (97655 effective words) took 2.4s, 40810 effective words/s\n",
      "2021-03-11 08:50:14,211 : INFO : worker thread finished; awaiting finish of 9 more threads\n",
      "2021-03-11 08:50:14,555 : INFO : EPOCH 36 - PROGRESS: at 20.33% examples, 15588 words/s, in_qsize 8, out_qsize 1\n",
      "2021-03-11 08:50:14,563 : INFO : worker thread finished; awaiting finish of 8 more threads\n",
      "2021-03-11 08:50:14,626 : INFO : worker thread finished; awaiting finish of 7 more threads\n",
      "2021-03-11 08:50:15,015 : INFO : worker thread finished; awaiting finish of 6 more threads\n",
      "2021-03-11 08:50:15,047 : INFO : worker thread finished; awaiting finish of 5 more threads\n",
      "2021-03-11 08:50:15,058 : INFO : worker thread finished; awaiting finish of 4 more threads\n",
      "2021-03-11 08:50:15,427 : INFO : worker thread finished; awaiting finish of 3 more threads\n",
      "2021-03-11 08:50:15,449 : INFO : worker thread finished; awaiting finish of 2 more threads\n",
      "2021-03-11 08:50:15,473 : INFO : worker thread finished; awaiting finish of 1 more threads\n",
      "2021-03-11 08:50:15,479 : INFO : worker thread finished; awaiting finish of 0 more threads\n",
      "2021-03-11 08:50:15,483 : INFO : EPOCH - 36 : training on 97786 raw words (97673 effective words) took 2.2s, 44488 effective words/s\n",
      "2021-03-11 08:50:16,504 : INFO : worker thread finished; awaiting finish of 9 more threads\n",
      "2021-03-11 08:50:17,198 : INFO : EPOCH 37 - PROGRESS: at 32.30% examples, 12263 words/s, in_qsize 8, out_qsize 1\n",
      "2021-03-11 08:50:17,201 : INFO : worker thread finished; awaiting finish of 8 more threads\n",
      "2021-03-11 08:50:17,286 : INFO : worker thread finished; awaiting finish of 7 more threads\n",
      "2021-03-11 08:50:17,345 : INFO : worker thread finished; awaiting finish of 6 more threads\n",
      "2021-03-11 08:50:17,591 : INFO : worker thread finished; awaiting finish of 5 more threads\n",
      "2021-03-11 08:50:17,688 : INFO : worker thread finished; awaiting finish of 4 more threads\n",
      "2021-03-11 08:50:17,736 : INFO : worker thread finished; awaiting finish of 3 more threads\n",
      "2021-03-11 08:50:17,765 : INFO : worker thread finished; awaiting finish of 2 more threads\n",
      "2021-03-11 08:50:17,802 : INFO : worker thread finished; awaiting finish of 1 more threads\n",
      "2021-03-11 08:50:17,811 : INFO : worker thread finished; awaiting finish of 0 more threads\n",
      "2021-03-11 08:50:17,814 : INFO : EPOCH - 37 : training on 97786 raw words (97634 effective words) took 2.3s, 42378 effective words/s\n",
      "2021-03-11 08:50:18,714 : INFO : worker thread finished; awaiting finish of 9 more threads\n",
      "2021-03-11 08:50:19,338 : INFO : EPOCH 38 - PROGRESS: at 36.72% examples, 13351 words/s, in_qsize 8, out_qsize 1\n",
      "2021-03-11 08:50:19,340 : INFO : worker thread finished; awaiting finish of 8 more threads\n",
      "2021-03-11 08:50:19,749 : INFO : worker thread finished; awaiting finish of 7 more threads\n",
      "2021-03-11 08:50:19,756 : INFO : worker thread finished; awaiting finish of 6 more threads\n",
      "2021-03-11 08:50:19,784 : INFO : worker thread finished; awaiting finish of 5 more threads\n",
      "2021-03-11 08:50:19,872 : INFO : worker thread finished; awaiting finish of 4 more threads\n",
      "2021-03-11 08:50:19,929 : INFO : worker thread finished; awaiting finish of 3 more threads\n",
      "2021-03-11 08:50:19,990 : INFO : worker thread finished; awaiting finish of 2 more threads\n",
      "2021-03-11 08:50:20,047 : INFO : worker thread finished; awaiting finish of 1 more threads\n",
      "2021-03-11 08:50:20,096 : INFO : worker thread finished; awaiting finish of 0 more threads\n",
      "2021-03-11 08:50:20,099 : INFO : EPOCH - 38 : training on 97786 raw words (97665 effective words) took 2.3s, 42970 effective words/s\n",
      "2021-03-11 08:50:21,718 : INFO : EPOCH 39 - PROGRESS: at 12.46% examples, 5563 words/s, in_qsize 10, out_qsize 0\n",
      "2021-03-11 08:50:21,852 : INFO : worker thread finished; awaiting finish of 9 more threads\n",
      "2021-03-11 08:50:21,945 : INFO : worker thread finished; awaiting finish of 8 more threads\n",
      "2021-03-11 08:50:21,961 : INFO : worker thread finished; awaiting finish of 7 more threads\n",
      "2021-03-11 08:50:22,035 : INFO : worker thread finished; awaiting finish of 6 more threads\n",
      "2021-03-11 08:50:22,168 : INFO : worker thread finished; awaiting finish of 5 more threads\n",
      "2021-03-11 08:50:22,189 : INFO : worker thread finished; awaiting finish of 4 more threads\n",
      "2021-03-11 08:50:22,210 : INFO : worker thread finished; awaiting finish of 3 more threads\n",
      "2021-03-11 08:50:22,391 : INFO : worker thread finished; awaiting finish of 2 more threads\n",
      "2021-03-11 08:50:22,394 : INFO : worker thread finished; awaiting finish of 1 more threads\n",
      "2021-03-11 08:50:22,408 : INFO : worker thread finished; awaiting finish of 0 more threads\n",
      "2021-03-11 08:50:22,409 : INFO : EPOCH - 39 : training on 97786 raw words (97653 effective words) took 2.3s, 42449 effective words/s\n",
      "2021-03-11 08:50:23,618 : INFO : EPOCH 40 - PROGRESS: at 7.05% examples, 7700 words/s, in_qsize 10, out_qsize 0\n",
      "2021-03-11 08:50:23,864 : INFO : worker thread finished; awaiting finish of 9 more threads\n",
      "2021-03-11 08:50:24,072 : INFO : worker thread finished; awaiting finish of 8 more threads\n",
      "2021-03-11 08:50:24,304 : INFO : worker thread finished; awaiting finish of 7 more threads\n",
      "2021-03-11 08:50:24,428 : INFO : worker thread finished; awaiting finish of 6 more threads\n",
      "2021-03-11 08:50:24,491 : INFO : worker thread finished; awaiting finish of 5 more threads\n",
      "2021-03-11 08:50:24,566 : INFO : worker thread finished; awaiting finish of 4 more threads\n",
      "2021-03-11 08:50:24,627 : INFO : EPOCH 40 - PROGRESS: at 76.89% examples, 30890 words/s, in_qsize 3, out_qsize 1\n",
      "2021-03-11 08:50:24,630 : INFO : worker thread finished; awaiting finish of 3 more threads\n",
      "2021-03-11 08:50:24,642 : INFO : worker thread finished; awaiting finish of 2 more threads\n",
      "2021-03-11 08:50:24,736 : INFO : worker thread finished; awaiting finish of 1 more threads\n",
      "2021-03-11 08:50:24,754 : INFO : worker thread finished; awaiting finish of 0 more threads\n",
      "2021-03-11 08:50:24,758 : INFO : EPOCH - 40 : training on 97786 raw words (97644 effective words) took 2.3s, 41809 effective words/s\n",
      "2021-03-11 08:50:26,395 : INFO : EPOCH 41 - PROGRESS: at 24.43% examples, 6230 words/s, in_qsize 10, out_qsize 0\n",
      "2021-03-11 08:50:26,414 : INFO : worker thread finished; awaiting finish of 9 more threads\n",
      "2021-03-11 08:50:26,506 : INFO : worker thread finished; awaiting finish of 8 more threads\n",
      "2021-03-11 08:50:26,549 : INFO : worker thread finished; awaiting finish of 7 more threads\n",
      "2021-03-11 08:50:26,576 : INFO : worker thread finished; awaiting finish of 6 more threads\n",
      "2021-03-11 08:50:26,793 : INFO : worker thread finished; awaiting finish of 5 more threads\n"
     ]
    },
    {
     "name": "stderr",
     "output_type": "stream",
     "text": [
      "2021-03-11 08:50:26,819 : INFO : worker thread finished; awaiting finish of 4 more threads\n",
      "2021-03-11 08:50:26,942 : INFO : worker thread finished; awaiting finish of 3 more threads\n",
      "2021-03-11 08:50:27,071 : INFO : worker thread finished; awaiting finish of 2 more threads\n",
      "2021-03-11 08:50:27,115 : INFO : worker thread finished; awaiting finish of 1 more threads\n",
      "2021-03-11 08:50:27,121 : INFO : worker thread finished; awaiting finish of 0 more threads\n",
      "2021-03-11 08:50:27,124 : INFO : EPOCH - 41 : training on 97786 raw words (97666 effective words) took 2.3s, 42041 effective words/s\n",
      "2021-03-11 08:50:28,112 : INFO : worker thread finished; awaiting finish of 9 more threads\n",
      "2021-03-11 08:50:28,374 : INFO : EPOCH 42 - PROGRESS: at 19.34% examples, 16563 words/s, in_qsize 8, out_qsize 1\n",
      "2021-03-11 08:50:28,377 : INFO : worker thread finished; awaiting finish of 8 more threads\n",
      "2021-03-11 08:50:28,433 : INFO : worker thread finished; awaiting finish of 7 more threads\n",
      "2021-03-11 08:50:28,980 : INFO : worker thread finished; awaiting finish of 6 more threads\n",
      "2021-03-11 08:50:28,996 : INFO : worker thread finished; awaiting finish of 5 more threads\n",
      "2021-03-11 08:50:29,196 : INFO : worker thread finished; awaiting finish of 4 more threads\n",
      "2021-03-11 08:50:29,220 : INFO : worker thread finished; awaiting finish of 3 more threads\n",
      "2021-03-11 08:50:29,310 : INFO : worker thread finished; awaiting finish of 2 more threads\n",
      "2021-03-11 08:50:29,311 : INFO : worker thread finished; awaiting finish of 1 more threads\n",
      "2021-03-11 08:50:29,323 : INFO : worker thread finished; awaiting finish of 0 more threads\n",
      "2021-03-11 08:50:29,326 : INFO : EPOCH - 42 : training on 97786 raw words (97657 effective words) took 2.1s, 45940 effective words/s\n",
      "2021-03-11 08:50:30,216 : INFO : worker thread finished; awaiting finish of 9 more threads\n",
      "2021-03-11 08:50:30,862 : INFO : EPOCH 43 - PROGRESS: at 21.64% examples, 12918 words/s, in_qsize 8, out_qsize 1\n",
      "2021-03-11 08:50:30,865 : INFO : worker thread finished; awaiting finish of 8 more threads\n",
      "2021-03-11 08:50:31,103 : INFO : worker thread finished; awaiting finish of 7 more threads\n",
      "2021-03-11 08:50:31,162 : INFO : worker thread finished; awaiting finish of 6 more threads\n",
      "2021-03-11 08:50:31,308 : INFO : worker thread finished; awaiting finish of 5 more threads\n",
      "2021-03-11 08:50:31,355 : INFO : worker thread finished; awaiting finish of 4 more threads\n",
      "2021-03-11 08:50:31,476 : INFO : worker thread finished; awaiting finish of 3 more threads\n",
      "2021-03-11 08:50:31,499 : INFO : worker thread finished; awaiting finish of 2 more threads\n",
      "2021-03-11 08:50:31,507 : INFO : worker thread finished; awaiting finish of 1 more threads\n",
      "2021-03-11 08:50:31,541 : INFO : worker thread finished; awaiting finish of 0 more threads\n",
      "2021-03-11 08:50:31,543 : INFO : EPOCH - 43 : training on 97786 raw words (97667 effective words) took 2.2s, 44249 effective words/s\n",
      "2021-03-11 08:50:33,030 : INFO : EPOCH 44 - PROGRESS: at 12.46% examples, 6058 words/s, in_qsize 10, out_qsize 0\n",
      "2021-03-11 08:50:33,124 : INFO : worker thread finished; awaiting finish of 9 more threads\n",
      "2021-03-11 08:50:33,164 : INFO : worker thread finished; awaiting finish of 8 more threads\n",
      "2021-03-11 08:50:33,278 : INFO : worker thread finished; awaiting finish of 7 more threads\n",
      "2021-03-11 08:50:33,305 : INFO : worker thread finished; awaiting finish of 6 more threads\n",
      "2021-03-11 08:50:33,325 : INFO : worker thread finished; awaiting finish of 5 more threads\n",
      "2021-03-11 08:50:33,394 : INFO : worker thread finished; awaiting finish of 4 more threads\n",
      "2021-03-11 08:50:33,731 : INFO : worker thread finished; awaiting finish of 3 more threads\n",
      "2021-03-11 08:50:33,814 : INFO : worker thread finished; awaiting finish of 2 more threads\n",
      "2021-03-11 08:50:33,870 : INFO : worker thread finished; awaiting finish of 1 more threads\n",
      "2021-03-11 08:50:33,880 : INFO : worker thread finished; awaiting finish of 0 more threads\n",
      "2021-03-11 08:50:33,882 : INFO : EPOCH - 44 : training on 97786 raw words (97629 effective words) took 2.3s, 41918 effective words/s\n",
      "2021-03-11 08:50:35,536 : INFO : EPOCH 45 - PROGRESS: at 24.43% examples, 6088 words/s, in_qsize 10, out_qsize 0\n",
      "2021-03-11 08:50:35,561 : INFO : worker thread finished; awaiting finish of 9 more threads\n",
      "2021-03-11 08:50:35,747 : INFO : worker thread finished; awaiting finish of 8 more threads\n",
      "2021-03-11 08:50:35,863 : INFO : worker thread finished; awaiting finish of 7 more threads\n",
      "2021-03-11 08:50:35,900 : INFO : worker thread finished; awaiting finish of 6 more threads\n",
      "2021-03-11 08:50:36,392 : INFO : worker thread finished; awaiting finish of 5 more threads\n",
      "2021-03-11 08:50:36,486 : INFO : worker thread finished; awaiting finish of 4 more threads\n",
      "2021-03-11 08:50:36,656 : INFO : EPOCH 45 - PROGRESS: at 78.52% examples, 24643 words/s, in_qsize 3, out_qsize 1\n",
      "2021-03-11 08:50:36,658 : INFO : worker thread finished; awaiting finish of 3 more threads\n",
      "2021-03-11 08:50:36,775 : INFO : worker thread finished; awaiting finish of 2 more threads\n",
      "2021-03-11 08:50:36,860 : INFO : worker thread finished; awaiting finish of 1 more threads\n",
      "2021-03-11 08:50:36,880 : INFO : worker thread finished; awaiting finish of 0 more threads\n",
      "2021-03-11 08:50:36,882 : INFO : EPOCH - 45 : training on 97786 raw words (97661 effective words) took 3.0s, 32794 effective words/s\n",
      "2021-03-11 08:50:38,863 : INFO : EPOCH 46 - PROGRESS: at 24.43% examples, 5134 words/s, in_qsize 10, out_qsize 0\n",
      "2021-03-11 08:50:38,921 : INFO : worker thread finished; awaiting finish of 9 more threads\n",
      "2021-03-11 08:50:38,932 : INFO : worker thread finished; awaiting finish of 8 more threads\n",
      "2021-03-11 08:50:38,977 : INFO : worker thread finished; awaiting finish of 7 more threads\n",
      "2021-03-11 08:50:39,032 : INFO : worker thread finished; awaiting finish of 6 more threads\n",
      "2021-03-11 08:50:39,292 : INFO : worker thread finished; awaiting finish of 5 more threads\n",
      "2021-03-11 08:50:39,321 : INFO : worker thread finished; awaiting finish of 4 more threads\n",
      "2021-03-11 08:50:39,359 : INFO : worker thread finished; awaiting finish of 3 more threads\n",
      "2021-03-11 08:50:39,412 : INFO : worker thread finished; awaiting finish of 2 more threads\n",
      "2021-03-11 08:50:39,473 : INFO : worker thread finished; awaiting finish of 1 more threads\n",
      "2021-03-11 08:50:39,504 : INFO : worker thread finished; awaiting finish of 0 more threads\n",
      "2021-03-11 08:50:39,506 : INFO : EPOCH - 46 : training on 97786 raw words (97646 effective words) took 2.6s, 37884 effective words/s\n",
      "2021-03-11 08:50:41,338 : INFO : EPOCH 47 - PROGRESS: at 8.52% examples, 5390 words/s, in_qsize 10, out_qsize 0\n",
      "2021-03-11 08:50:41,438 : INFO : worker thread finished; awaiting finish of 9 more threads\n",
      "2021-03-11 08:50:41,445 : INFO : worker thread finished; awaiting finish of 8 more threads\n",
      "2021-03-11 08:50:41,448 : INFO : worker thread finished; awaiting finish of 7 more threads\n",
      "2021-03-11 08:50:41,508 : INFO : worker thread finished; awaiting finish of 6 more threads\n",
      "2021-03-11 08:50:41,819 : INFO : worker thread finished; awaiting finish of 5 more threads\n",
      "2021-03-11 08:50:41,862 : INFO : worker thread finished; awaiting finish of 4 more threads\n",
      "2021-03-11 08:50:41,948 : INFO : worker thread finished; awaiting finish of 3 more threads\n",
      "2021-03-11 08:50:41,951 : INFO : worker thread finished; awaiting finish of 2 more threads\n",
      "2021-03-11 08:50:42,093 : INFO : worker thread finished; awaiting finish of 1 more threads\n",
      "2021-03-11 08:50:42,137 : INFO : worker thread finished; awaiting finish of 0 more threads\n",
      "2021-03-11 08:50:42,139 : INFO : EPOCH - 47 : training on 97786 raw words (97664 effective words) took 2.6s, 37222 effective words/s\n",
      "2021-03-11 08:50:43,290 : INFO : EPOCH 48 - PROGRESS: at 9.67% examples, 10042 words/s, in_qsize 9, out_qsize 1\n",
      "2021-03-11 08:50:43,292 : INFO : worker thread finished; awaiting finish of 9 more threads\n",
      "2021-03-11 08:50:43,924 : INFO : worker thread finished; awaiting finish of 8 more threads\n",
      "2021-03-11 08:50:44,020 : INFO : worker thread finished; awaiting finish of 7 more threads\n",
      "2021-03-11 08:50:44,049 : INFO : worker thread finished; awaiting finish of 6 more threads\n",
      "2021-03-11 08:50:44,478 : INFO : EPOCH 48 - PROGRESS: at 45.90% examples, 21734 words/s, in_qsize 5, out_qsize 1\n"
     ]
    },
    {
     "name": "stderr",
     "output_type": "stream",
     "text": [
      "2021-03-11 08:50:44,480 : INFO : worker thread finished; awaiting finish of 5 more threads\n",
      "2021-03-11 08:50:44,513 : INFO : worker thread finished; awaiting finish of 4 more threads\n",
      "2021-03-11 08:50:44,602 : INFO : worker thread finished; awaiting finish of 3 more threads\n",
      "2021-03-11 08:50:44,669 : INFO : worker thread finished; awaiting finish of 2 more threads\n",
      "2021-03-11 08:50:44,718 : INFO : worker thread finished; awaiting finish of 1 more threads\n",
      "2021-03-11 08:50:44,739 : INFO : worker thread finished; awaiting finish of 0 more threads\n",
      "2021-03-11 08:50:44,741 : INFO : EPOCH - 48 : training on 97786 raw words (97650 effective words) took 2.5s, 38902 effective words/s\n",
      "2021-03-11 08:50:45,615 : INFO : worker thread finished; awaiting finish of 9 more threads\n",
      "2021-03-11 08:50:46,179 : INFO : EPOCH 49 - PROGRESS: at 14.92% examples, 14047 words/s, in_qsize 8, out_qsize 1\n",
      "2021-03-11 08:50:46,181 : INFO : worker thread finished; awaiting finish of 8 more threads\n",
      "2021-03-11 08:50:46,406 : INFO : worker thread finished; awaiting finish of 7 more threads\n",
      "2021-03-11 08:50:46,479 : INFO : worker thread finished; awaiting finish of 6 more threads\n",
      "2021-03-11 08:50:46,551 : INFO : worker thread finished; awaiting finish of 5 more threads\n",
      "2021-03-11 08:50:46,711 : INFO : worker thread finished; awaiting finish of 4 more threads\n",
      "2021-03-11 08:50:46,997 : INFO : worker thread finished; awaiting finish of 3 more threads\n",
      "2021-03-11 08:50:47,172 : INFO : worker thread finished; awaiting finish of 2 more threads\n",
      "2021-03-11 08:50:47,229 : INFO : EPOCH 49 - PROGRESS: at 91.97% examples, 35448 words/s, in_qsize 1, out_qsize 1\n",
      "2021-03-11 08:50:47,232 : INFO : worker thread finished; awaiting finish of 1 more threads\n",
      "2021-03-11 08:50:47,305 : INFO : worker thread finished; awaiting finish of 0 more threads\n",
      "2021-03-11 08:50:47,306 : INFO : EPOCH - 49 : training on 97786 raw words (97669 effective words) took 2.6s, 38285 effective words/s\n",
      "2021-03-11 08:50:49,050 : INFO : EPOCH 50 - PROGRESS: at 24.43% examples, 5731 words/s, in_qsize 10, out_qsize 0\n",
      "2021-03-11 08:50:49,138 : INFO : worker thread finished; awaiting finish of 9 more threads\n",
      "2021-03-11 08:50:49,155 : INFO : worker thread finished; awaiting finish of 8 more threads\n",
      "2021-03-11 08:50:49,193 : INFO : worker thread finished; awaiting finish of 7 more threads\n",
      "2021-03-11 08:50:49,211 : INFO : worker thread finished; awaiting finish of 6 more threads\n",
      "2021-03-11 08:50:49,437 : INFO : worker thread finished; awaiting finish of 5 more threads\n",
      "2021-03-11 08:50:49,571 : INFO : worker thread finished; awaiting finish of 4 more threads\n",
      "2021-03-11 08:50:49,597 : INFO : worker thread finished; awaiting finish of 3 more threads\n",
      "2021-03-11 08:50:49,689 : INFO : worker thread finished; awaiting finish of 2 more threads\n",
      "2021-03-11 08:50:49,781 : INFO : worker thread finished; awaiting finish of 1 more threads\n",
      "2021-03-11 08:50:49,946 : INFO : worker thread finished; awaiting finish of 0 more threads\n",
      "2021-03-11 08:50:49,950 : INFO : EPOCH - 50 : training on 97786 raw words (97652 effective words) took 2.6s, 37095 effective words/s\n",
      "2021-03-11 08:50:49,952 : INFO : training on a 4889300 raw words (4882744 effective words) took 120.8s, 40431 effective words/s\n"
     ]
    }
   ],
   "source": [
    "import gensim\n",
    "import logging\n",
    "logging.basicConfig(format='%(asctime)s : %(levelname)s : %(message)s', level=logging.INFO)\n",
    "\n",
    "\n",
    "\n",
    "train_seq_str = [list(map(str,seq)) for seq in train_seq] # we just say that our items id's are strings..\n",
    "    \n",
    "\n",
    "# the following configuration is the default configuration\n",
    "w2v = gensim.models.word2vec.Word2Vec(sentences=train_seq_str,\n",
    "                                size=50, window=10,               ### here we train a cbow model \n",
    "                                min_count=0,                      \n",
    "                                sample=0.001, ns_exponent=0.75, workers=10,\n",
    "                                sg=1, hs=0, negative=15,          ### set sg to 1 to train a sg model => Prod2Vec\n",
    "                                cbow_mean=0,\n",
    "                                iter=50)"
   ]
  },
  {
   "cell_type": "markdown",
   "metadata": {},
   "source": [
    "### A few things:"
   ]
  },
  {
   "cell_type": "code",
   "execution_count": 9,
   "metadata": {},
   "outputs": [
    {
     "name": "stdout",
     "output_type": "stream",
     "text": [
      "[ 0.39818847 -0.2801535  -0.9501748   0.37598923  1.0202657   0.01552723\n",
      " -0.41624027  0.23826908  0.7772566  -0.17907068 -0.43146133 -0.56973624\n",
      "  0.16038768 -0.06844611  0.24841109  0.07849234 -0.15293169  0.26098186\n",
      "  0.14971541 -0.2873157  -0.45365134  0.6260886   0.4411372   0.06583415\n",
      "  0.28972292 -0.36923018  0.02674621  0.05671233  0.14099811 -0.04415927\n",
      "  0.63872796 -0.12388096 -0.13038674 -0.06470512 -0.6417044  -0.66074425\n",
      "  0.00873725 -0.13462052 -0.6988504  -0.5773919  -0.3657546   0.04504156\n",
      " -0.23187491 -0.693151    0.06972066  0.18085575 -0.01737205  0.02369497\n",
      " -0.16956268  0.15821594]\n",
      "356\n",
      "0\n"
     ]
    }
   ],
   "source": [
    "print(w2v.wv.vectors[0])              # The vector of index 0\n",
    "print(w2v.wv.index2word[0])           # codes for the movieId 356\n",
    "print(w2v.wv.vocab[\"356\"].index)      # Inverse mapping\n"
   ]
  },
  {
   "cell_type": "markdown",
   "metadata": {},
   "source": [
    "## Getting similar items:\n",
    "\n",
    "The heart of the algorithm is in the similar item search. As in word2vec, we simply use cosine distance between items to find \"similar items\"\n",
    "\n",
    "### We can search by id's"
   ]
  },
  {
   "cell_type": "code",
   "execution_count": 10,
   "metadata": {},
   "outputs": [
    {
     "name": "stderr",
     "output_type": "stream",
     "text": [
      "2021-03-11 08:50:50,192 : INFO : precomputing L2-norms of word weight vectors\n"
     ]
    },
    {
     "data": {
      "text/plain": [
       "[231, 410, 597, 539, 8626]"
      ]
     },
     "execution_count": 10,
     "metadata": {},
     "output_type": "execute_result"
    }
   ],
   "source": [
    "def get_similar_ids(w2vmodel,iid,num=5):\n",
    "    \n",
    "    if str(iid) in w2vmodel.wv.vocab:\n",
    "        return [int(iid) for iid,_ in w2vmodel.wv.most_similar(str(iid),topn=num)] \n",
    "    else:\n",
    "        return []\n",
    "\n",
    "get_similar_ids(w2v,last_consumed_item[0],num=5)"
   ]
  },
  {
   "cell_type": "markdown",
   "metadata": {},
   "source": [
    "### Or by vector"
   ]
  },
  {
   "cell_type": "code",
   "execution_count": 11,
   "metadata": {},
   "outputs": [
    {
     "data": {
      "text/plain": [
       "array([ 0.42098597,  0.9805728 , -1.1662945 , -0.21004966,  0.78408533,\n",
       "        0.35111073, -0.80608237, -0.23535968,  0.88485646, -0.4650796 ,\n",
       "        0.09413416, -1.3667927 , -0.16069087,  0.11385872,  0.30032724,\n",
       "        0.26759434, -0.49626958, -0.09098382,  0.14344394, -0.6971733 ,\n",
       "       -0.5810224 ,  0.3689275 ,  0.4551429 ,  0.17731687,  0.17238082,\n",
       "        0.13695596,  0.18709296, -0.5817041 , -0.1571545 ,  0.08945272,\n",
       "        0.63630694,  0.49294955, -0.5400572 ,  0.6066095 , -0.5628607 ,\n",
       "       -0.25277224,  0.6171728 ,  0.1139388 , -0.92696   , -0.9351617 ,\n",
       "       -0.43408176,  0.44711164, -0.3646725 , -0.65867513,  0.25452763,\n",
       "       -0.0017505 , -0.5697385 , -0.3370672 , -0.17869902, -0.6606217 ],\n",
       "      dtype=float32)"
      ]
     },
     "execution_count": 11,
     "metadata": {},
     "output_type": "execute_result"
    }
   ],
   "source": [
    "w2v.wv[str(last_consumed_item[0])]"
   ]
  },
  {
   "cell_type": "code",
   "execution_count": 12,
   "metadata": {},
   "outputs": [
    {
     "data": {
      "text/plain": [
       "[339, 231, 410, 597, 539]"
      ]
     },
     "execution_count": 12,
     "metadata": {},
     "output_type": "execute_result"
    }
   ],
   "source": [
    "def get_similar_vectors(w2vmodel,vec,num=5):\n",
    "        return [int(iid) for iid,_ in w2vmodel.wv.most_similar(positive=[vec],topn=num)] \n",
    "\n",
    "get_similar_vectors(w2v,w2v.wv[str(last_consumed_item[0])],num=5) # items are strings"
   ]
  },
  {
   "cell_type": "markdown",
   "metadata": {},
   "source": [
    "### Let's see if this works\n",
    "\n",
    "We can query by id"
   ]
  },
  {
   "cell_type": "code",
   "execution_count": 13,
   "metadata": {},
   "outputs": [
    {
     "name": "stdout",
     "output_type": "stream",
     "text": [
      "Movies similar to:  Toy Story (1995)\n",
      "\n",
      "-->  Forrest Gump (1994)\n",
      "-->  Toy Story 2 (1999)\n",
      "-->  Aladdin (1992)\n"
     ]
    }
   ],
   "source": [
    "ID = 1\n",
    "NUM_SIM = 3\n",
    "\n",
    "print(\"Movies similar to: \", id2title[ID])\n",
    "print(\"\")\n",
    "for x in get_similar_ids(w2v,ID,NUM_SIM):\n",
    "    print(\"--> \",id2title[x])"
   ]
  },
  {
   "cell_type": "markdown",
   "metadata": {},
   "source": [
    "We can also query by vector\n",
    "\n",
    "**NOTE:** the 1st results can be the item(s) you've used to query"
   ]
  },
  {
   "cell_type": "code",
   "execution_count": 14,
   "metadata": {},
   "outputs": [
    {
     "name": "stdout",
     "output_type": "stream",
     "text": [
      "Movies similar to:  Toy Story (1995)\n",
      "\n",
      "-->  Toy Story (1995)\n",
      "-->  Forrest Gump (1994)\n",
      "-->  Toy Story 2 (1999)\n",
      "-->  Aladdin (1992)\n"
     ]
    }
   ],
   "source": [
    "ID = 1\n",
    "NUM_SIM = 4\n",
    "print(\"Movies similar to: \", id2title[ID])\n",
    "print(\"\")\n",
    "for x in get_similar_vectors(w2v,w2v.wv[str(ID)],NUM_SIM):\n",
    "    print(\"--> \",id2title[x])"
   ]
  },
  {
   "cell_type": "markdown",
   "metadata": {},
   "source": [
    "Our result was the following (for ID = 1 & NUM_SIM = 3)\n",
    "\n",
    ">Movies similar to:  Toy Story (1995)\n",
    ">-  Beauty and the Beast (1991)\n",
    "-   Toy Story 2 (1999)\n",
    "-   Lion King, The (1994)\n"
   ]
  },
  {
   "cell_type": "markdown",
   "metadata": {},
   "source": [
    "Using vectors enables operations like additions to be made"
   ]
  },
  {
   "cell_type": "code",
   "execution_count": 15,
   "metadata": {},
   "outputs": [
    {
     "name": "stdout",
     "output_type": "stream",
     "text": [
      "Movies similar to:  Matrix, The (1999) + Terminator 2: Judgment Day (1991)\n",
      "\n",
      "-->  Matrix, The (1999)\n",
      "-->  Terminator 2: Judgment Day (1991)\n",
      "-->  Saving Private Ryan (1998)\n",
      "-->  Terminator, The (1984)\n",
      "-->  Star Wars: Episode V - The Empire Strikes Back (1980)\n",
      "-->  Speed (1994)\n",
      "-->  Braveheart (1995)\n",
      "-->  Raiders of the Lost Ark (Indiana Jones and the Raiders of the Lost Ark) (1981)\n",
      "-->  Star Wars: Episode VI - Return of the Jedi (1983)\n",
      "-->  Fuzz (1972)\n"
     ]
    }
   ],
   "source": [
    "ID1 = 2571\n",
    "ID2 = 589\n",
    "NUM_SIM = 10\n",
    "\n",
    "vec = np.max([w2v.wv[str(ID1)],w2v.wv[str(ID2)]],axis=0)# + w2v.wv[str(318)]\n",
    "\n",
    "print(\"Movies similar to: \", id2title[ID1] , \"+\",  id2title[ID2] )\n",
    "print(\"\")\n",
    "for x in get_similar_vectors(w2v,vec ,NUM_SIM):\n",
    "    print(\"--> \",id2title[x])"
   ]
  },
  {
   "cell_type": "markdown",
   "metadata": {},
   "source": [
    "Ok, we now have a good base for our sequence recommendation algorithm, let's write something to evaluate our predictions"
   ]
  },
  {
   "cell_type": "markdown",
   "metadata": {},
   "source": [
    "## (Todo) write a `get_relevance_list(proposed_ids,real_ids)` function:\n",
    "\n",
    "This function will be used to compare proposed items w/ real items:\n",
    "\n",
    "\n",
    "- A relevant item is an item which is in the ground truth\n",
    "- It returns a list which length is the number of proposed items filled of 0's and 1's : 0 means the item is not relevant, 1 means it's relevant.\n",
    "\n",
    "- get_relevance_list([1,2,3,4],[1,4,5,6]) should returns [1,0,0,1]  because items 1 and 4 are relevant.\n"
   ]
  },
  {
   "cell_type": "code",
   "execution_count": 16,
   "metadata": {},
   "outputs": [
    {
     "data": {
      "text/plain": [
       "[1, 0, 0, 1]"
      ]
     },
     "execution_count": 16,
     "metadata": {},
     "output_type": "execute_result"
    }
   ],
   "source": [
    "def get_relevance_list(proposed_ids,real_ids):\n",
    "    real_ids = set(real_ids)\n",
    "    return [1 if x in real_ids else 0 for x in proposed_ids]\n",
    "get_relevance_list([1,2,3,4],[1,4,5,6]) #returns [1,0,0,1]"
   ]
  },
  {
   "cell_type": "markdown",
   "metadata": {},
   "source": [
    "### Let's test our function on our data"
   ]
  },
  {
   "cell_type": "code",
   "execution_count": 17,
   "metadata": {},
   "outputs": [
    {
     "data": {
      "text/plain": [
       "[0, 0, 0, 0, 0, 0, 0, 0, 0, 0, 0, 0, 0, 0, 0, 0, 0, 0, 0, 0, 0, 0, 0, 0, 0]"
      ]
     },
     "execution_count": 17,
     "metadata": {},
     "output_type": "execute_result"
    }
   ],
   "source": [
    "get_relevance_list(most_popular[:25],test_seq[1])"
   ]
  },
  {
   "cell_type": "code",
   "execution_count": 18,
   "metadata": {},
   "outputs": [
    {
     "data": {
      "text/plain": [
       "[0, 0, 0, 0, 0, 0, 0, 0, 0, 0, 0, 0, 0, 0, 0, 0, 0, 0, 0, 0, 0, 0, 0, 0, 0]"
      ]
     },
     "execution_count": 18,
     "metadata": {},
     "output_type": "execute_result"
    }
   ],
   "source": [
    "get_relevance_list(get_similar_ids(w2v,last_consumed_item[0],25),test_seq[0])"
   ]
  },
  {
   "cell_type": "markdown",
   "metadata": {},
   "source": [
    "## Ok, now, let's write prediction funtions:\n",
    "\n",
    "- `predict_pop` will recommend the k's most popular items\n",
    "- `predict_w2v` will recommend the k's most similar items to the last one consumed\n",
    "\n",
    "#### (TODO) : complete those functions"
   ]
  },
  {
   "cell_type": "code",
   "execution_count": 19,
   "metadata": {},
   "outputs": [],
   "source": [
    "def predict_pop(last_seen,k):\n",
    "    return most_popular[:k]\n",
    "\n",
    "def predict_w2v(last_seen,k):\n",
    "    return get_similar_ids(w2v,last_seen,k)\n",
    "\n",
    "#data is list of last_consumed:\n",
    "def get_predictions(predict_func,data,truth,k=5):\n",
    "    if k == -1 or k == 0:\n",
    "        k = num_items\n",
    "    return [get_relevance_list(predict_func(last_seen,k),will_see) for last_seen,will_see in zip(data,truth)]"
   ]
  },
  {
   "cell_type": "markdown",
   "metadata": {},
   "source": [
    "**Note**: The `get_predictions(...)` function returns the relevant list associated to predictions"
   ]
  },
  {
   "cell_type": "markdown",
   "metadata": {},
   "source": [
    "### The following cells should return list of lists"
   ]
  },
  {
   "cell_type": "code",
   "execution_count": 20,
   "metadata": {},
   "outputs": [
    {
     "name": "stdout",
     "output_type": "stream",
     "text": [
      "[[0, 0, 0], [0, 0, 0], [0, 0, 0], [0, 0, 0], [0, 0, 0]]\n",
      "[[0, 0, 0], [0, 1, 1], [0, 0, 0], [0, 0, 0], [0, 0, 0]]\n"
     ]
    }
   ],
   "source": [
    "print(get_predictions(predict_pop,last_consumed_item[:5],test_seq[:5],3))\n",
    "print(get_predictions(predict_w2v,last_consumed_item[:5],test_seq[:5],3))"
   ]
  },
  {
   "cell_type": "markdown",
   "metadata": {},
   "source": [
    "expected output: \n",
    "```\n",
    "[[0, 0, 0], [0, 0, 0], [0, 0, 0], [0, 0, 0], [0, 0, 0]]\n",
    "[[0, 0, 0], [0, 0, 0], [0, 0, 0], [0, 0, 0], [0, 0, 0]]\n",
    "\n",
    "```"
   ]
  },
  {
   "cell_type": "markdown",
   "metadata": {},
   "source": [
    "## The return of the MRR and nDCG functions"
   ]
  },
  {
   "cell_type": "code",
   "execution_count": 21,
   "metadata": {},
   "outputs": [
    {
     "name": "stdout",
     "output_type": "stream",
     "text": [
      "0.4583333333333333\n",
      "3.0\n",
      "4.2618595071429155\n",
      "1.0\n",
      "0.7942854176010882\n"
     ]
    }
   ],
   "source": [
    "test_list = [[0,0,1],[0,1,0],[1,0,0],[0,0,0]]\n",
    "\n",
    "def rr(list_items):\n",
    "    relevant_indexes = np.asarray(list_items).nonzero()[0]\n",
    "    \n",
    "    if len(relevant_indexes) > 0:\n",
    "        return 1/(relevant_indexes[0]+1) # arrays are indexed from 0\n",
    "    else:\n",
    "        return 0\n",
    "\n",
    "def mrr(list_list_items):\n",
    "    return np.mean([rr(list_item) for list_item in list_list_items])\n",
    "\n",
    "print(mrr(test_list)) #0.4583333333333333\n",
    "\n",
    "# The dcg@k is the sum of the relevance, penalized gradually\n",
    "def dcg_at_k(r, k):\n",
    "    \"\"\"Score is discounted cumulative gain (dcg)\n",
    "        r: Relevance scores (list or numpy) in rank order\n",
    "            (first element is the first item)\n",
    "        k: Number of results to consider\n",
    "        \n",
    "    \"\"\"\n",
    "    r = np.asfarray(r)[:k]\n",
    "    if r.size:\n",
    "        return np.sum(r / np.log2(np.arange(2, r.size + 2)))\n",
    "        \n",
    "    return 0.\n",
    "\n",
    "# test values\n",
    "# r = [3, 2, 3, 0, 0, 1, 2, 2, 3, 0]\n",
    "# dcg_at_k(r, 1) => 3.0\n",
    "# dcg_at_k(r, 2) => 4.2618595071429155\n",
    "r = [3, 2, 3, 0, 0, 1, 2, 2, 3, 0]\n",
    "print(dcg_at_k(r, 1))\n",
    "print(dcg_at_k(r, 2))\n",
    "\n",
    "def mean_dcg(rel_lists,k):\n",
    "    return np.mean([dcg_at_k(rel_list,k) for rel_list in rel_lists])\n",
    "\n",
    "# And it's normalized version\n",
    "def ndcg_at_k(r, k):\n",
    "    \"\"\"\n",
    "        r: Relevance scores (list or numpy) in rank order\n",
    "            (first element is the first item)\n",
    "        k: Number of results to consider\n",
    "    \"\"\"\n",
    "    dcg_max =  dcg_at_k(sorted(r)[::-1],k) \n",
    "    if not dcg_max:\n",
    "        return 0.\n",
    "    return dcg_at_k(r, k) / dcg_max\n",
    "\n",
    "# test values\n",
    "# r = [3, 2, 3, 0, 0, 1, 2, 2, 3, 0]\n",
    "# ndcg_at_k(r, 1) => 1.0\n",
    "# ndcg_at_k(r, 4) => 0.794285\n",
    "    \n",
    "r = [3, 2, 3, 0, 0, 1, 2, 2, 3, 0]    \n",
    "print(ndcg_at_k(r, 1))\n",
    "print(ndcg_at_k(r, 4))\n",
    "\n",
    "def mean_ndcg(rel_lists,k):\n",
    "    return np.mean([ndcg_at_k(rel_list,k) for rel_list in rel_lists])"
   ]
  },
  {
   "cell_type": "markdown",
   "metadata": {},
   "source": [
    "## Let's see how this naïve way of predicting items to show works"
   ]
  },
  {
   "cell_type": "code",
   "execution_count": 22,
   "metadata": {},
   "outputs": [
    {
     "name": "stdout",
     "output_type": "stream",
     "text": [
      "1/MRR\n",
      "17.87234931650308\n",
      "11.867540175995165\n",
      "\n",
      "DCG\n",
      "0.051054704276776476\n",
      "0.09030093348089863\n",
      "\n",
      "nDCG\n",
      "0.017315723982695277\n",
      "0.030973344743192043\n"
     ]
    }
   ],
   "source": [
    "pop_preds = get_predictions(predict_pop,last_consumed_item,test_seq,-1)\n",
    "w2v_preds = get_predictions(predict_w2v,last_consumed_item,test_seq,-1)\n",
    "\n",
    "print(\"1/MRR\")\n",
    "print(1/mrr(pop_preds))\n",
    "print(1/mrr(w2v_preds))\n",
    "print(\"\")\n",
    "print(\"DCG\")\n",
    "print(mean_dcg(pop_preds,5))\n",
    "print(mean_dcg(w2v_preds,5))\n",
    "print(\"\")\n",
    "print(\"nDCG\")\n",
    "print(mean_ndcg(pop_preds,5))\n",
    "print(mean_ndcg(w2v_preds,5))"
   ]
  },
  {
   "cell_type": "markdown",
   "metadata": {},
   "source": [
    "### (TODO) Can we do better ?\n",
    "\n",
    "Now, try a different strategy: \n",
    "\n",
    "\n",
    "- History should be discarded from prediction\n",
    "- Instead of basing the prediction on the last seen item, we'll take all the `seen[-n:]` ones (horizon) into account\n",
    "- To aggregate all items, we'll simply take the min rank to take into account the history offset.\n",
    "- Equal scores can be handled using the history offset.\n",
    "Example: \n",
    "\n",
    "> Let's say you chose to use the two last seen items `[item 44, Item 398]` to predict the following items\n",
    "\n",
    "Therefore, using `get_similar_ids` method on both items will yield two lists of **similar** ranked item id's:\n",
    " - Similar to item 44: `[item 1, item 33, item 5]`\n",
    " - Similar to item 398: `[item 25, item 1, item 5]`\n",
    " scores (rank,offset):\n",
    " ```\n",
    " scores := {item 1: (0,0), item 33: (1,0), item 5: (2,0) , item 25: (0,1)}```\n",
    " \n",
    " \n",
    "Then, aggregation by best rank should yield: `[1,25,33,5]`\n"
   ]
  },
  {
   "cell_type": "code",
   "execution_count": 23,
   "metadata": {},
   "outputs": [
    {
     "name": "stdout",
     "output_type": "stream",
     "text": [
      "14.275496203675246\n",
      "0.06976055861510819\n",
      "0.023765959884840593\n"
     ]
    }
   ],
   "source": [
    "def predict_max_w2v(seen,k,horizon=2):\n",
    "    \n",
    "    last_seen = seen[-horizon:]\n",
    "    scores = dict()\n",
    "    rank = 0\n",
    "    for rank in range(len(last_seen)):\n",
    "        predected_sim = get_similar_ids(w2v,last_seen[rank],k)\n",
    "        for offset in range(len(predected_sim)):\n",
    "            item = predected_sim[offset]\n",
    "            if item not in scores.keys():\n",
    "                scores[item] = (rank,offset)\n",
    "\n",
    "\n",
    "    return list(dict(sorted(scores.items(), key=lambda item: item[1])).keys())\n",
    "\n",
    "\n",
    "w2v_best_preds = get_predictions(predict_max_w2v,train_seq,test_seq,-1)\n",
    "\n",
    "print(1/mrr(w2v_best_preds))\n",
    "print(mean_dcg(w2v_best_preds,5))\n",
    "print(mean_ndcg(w2v_best_preds,5))"
   ]
  },
  {
   "cell_type": "markdown",
   "metadata": {},
   "source": [
    "#### => Not really better"
   ]
  },
  {
   "cell_type": "markdown",
   "metadata": {},
   "source": [
    "## Let's visualize learned embeddings\n",
    "\n",
    "Just like in the 1st practical, we propose to visualize learnt items embeddings with the [Tensorflow projector](https://projector.tensorflow.org/)."
   ]
  },
  {
   "cell_type": "code",
   "execution_count": 24,
   "metadata": {},
   "outputs": [],
   "source": [
    "# This function saves embeddings (a numpy array) and associated labels into tsv files.\n",
    "\n",
    "def save_embeddings(embs,dict_label,path=\"saved_word_vectors\"):\n",
    "    \"\"\"\n",
    "    embs is Numpy.array(N,size)\n",
    "    dict_label is {str(word)->int(idx)} or {int(idx)->str(word)}\n",
    "    \"\"\"\n",
    "    def int_first(k,v):\n",
    "        if type(k) == int:\n",
    "            return (k,v)\n",
    "        else:\n",
    "            return (v,k)\n",
    "\n",
    "    np.savetxt(f\"{path}_vectors.tsv\", embs, delimiter=\"\\t\")\n",
    "\n",
    "    #labels \n",
    "    if dict_label:\n",
    "        sorted_labs = np.array([lab for idx,lab in sorted([int_first(k,v) for k,v in dict_label.items()])])\n",
    "        print(sorted_labs)\n",
    "        with open(f\"{path}_metadata.tsv\",\"w\") as metadata_file:\n",
    "            for x in sorted_labs: #hack for space\n",
    "                if len(x.strip()) == 0:\n",
    "                    x = f\"space-{len(x)}\"\n",
    "                    \n",
    "                metadata_file.write(f\"{x}\\n\")"
   ]
  },
  {
   "cell_type": "code",
   "execution_count": 25,
   "metadata": {},
   "outputs": [],
   "source": [
    "vec2title = {i:id2title[int(mid)] for i,mid in enumerate(w2v.wv.index2word)}"
   ]
  },
  {
   "cell_type": "code",
   "execution_count": 26,
   "metadata": {},
   "outputs": [
    {
     "name": "stdout",
     "output_type": "stream",
     "text": [
      "['Forrest Gump (1994)' 'Shawshank Redemption, The (1994)'\n",
      " 'Pulp Fiction (1994)' ... 'Flint (2017)' 'Ferdinand (2017)'\n",
      " 'Andrew Dice Clay: Dice Rules (1991)']\n"
     ]
    }
   ],
   "source": [
    "save_embeddings(w2v.wv.vectors,vec2title)"
   ]
  },
  {
   "cell_type": "code",
   "execution_count": 30,
   "metadata": {},
   "outputs": [
    {
     "data": {
      "text/html": [
       "<div>\n",
       "<style scoped>\n",
       "    .dataframe tbody tr th:only-of-type {\n",
       "        vertical-align: middle;\n",
       "    }\n",
       "\n",
       "    .dataframe tbody tr th {\n",
       "        vertical-align: top;\n",
       "    }\n",
       "\n",
       "    .dataframe thead th {\n",
       "        text-align: right;\n",
       "    }\n",
       "</style>\n",
       "<table border=\"1\" class=\"dataframe\">\n",
       "  <thead>\n",
       "    <tr style=\"text-align: right;\">\n",
       "      <th></th>\n",
       "      <th>Forrest Gump (1994)</th>\n",
       "    </tr>\n",
       "  </thead>\n",
       "  <tbody>\n",
       "    <tr>\n",
       "      <th>0</th>\n",
       "      <td>Shawshank Redemption, The (1994)</td>\n",
       "    </tr>\n",
       "    <tr>\n",
       "      <th>1</th>\n",
       "      <td>Pulp Fiction (1994)</td>\n",
       "    </tr>\n",
       "    <tr>\n",
       "      <th>2</th>\n",
       "      <td>Matrix, The (1999)</td>\n",
       "    </tr>\n",
       "    <tr>\n",
       "      <th>3</th>\n",
       "      <td>Silence of the Lambs, The (1991)</td>\n",
       "    </tr>\n",
       "    <tr>\n",
       "      <th>4</th>\n",
       "      <td>Star Wars: Episode IV - A New Hope (1977)</td>\n",
       "    </tr>\n",
       "    <tr>\n",
       "      <th>...</th>\n",
       "      <td>...</td>\n",
       "    </tr>\n",
       "    <tr>\n",
       "      <th>9610</th>\n",
       "      <td>Fireworks, Should We See It from the Side or t...</td>\n",
       "    </tr>\n",
       "    <tr>\n",
       "      <th>9611</th>\n",
       "      <td>Too Funny to Fail: The Life and Death of The D...</td>\n",
       "    </tr>\n",
       "    <tr>\n",
       "      <th>9612</th>\n",
       "      <td>Flint (2017)</td>\n",
       "    </tr>\n",
       "    <tr>\n",
       "      <th>9613</th>\n",
       "      <td>Ferdinand (2017)</td>\n",
       "    </tr>\n",
       "    <tr>\n",
       "      <th>9614</th>\n",
       "      <td>Andrew Dice Clay: Dice Rules (1991)</td>\n",
       "    </tr>\n",
       "  </tbody>\n",
       "</table>\n",
       "<p>9615 rows × 1 columns</p>\n",
       "</div>"
      ],
      "text/plain": [
       "                                    Forrest Gump (1994)\n",
       "0                      Shawshank Redemption, The (1994)\n",
       "1                                   Pulp Fiction (1994)\n",
       "2                                    Matrix, The (1999)\n",
       "3                      Silence of the Lambs, The (1991)\n",
       "4             Star Wars: Episode IV - A New Hope (1977)\n",
       "...                                                 ...\n",
       "9610  Fireworks, Should We See It from the Side or t...\n",
       "9611  Too Funny to Fail: The Life and Death of The D...\n",
       "9612                                       Flint (2017)\n",
       "9613                                   Ferdinand (2017)\n",
       "9614                Andrew Dice Clay: Dice Rules (1991)\n",
       "\n",
       "[9615 rows x 1 columns]"
      ]
     },
     "execution_count": 30,
     "metadata": {},
     "output_type": "execute_result"
    }
   ],
   "source": [
    "pd.read_csv('saved_word_vectors_metadata.tsv', sep='\\t')"
   ]
  },
  {
   "cell_type": "markdown",
   "metadata": {},
   "source": [
    "## How to:\n",
    "\n",
    "- Now, [open this link](https://projector.tensorflow.org/), and select \"load\".\n",
    "- look for saved_word_vectors_vectors.tsv and saved_word_vectors_metadata.tsv. \n",
    "\n",
    "=> These are respectively, the items latent representations and their labels"
   ]
  },
  {
   "cell_type": "code",
   "execution_count": 2,
   "metadata": {},
   "outputs": [
    {
     "data": {
      "image/png": "[encoded data removed]",
      "text/plain": [
       "<IPython.core.display.Image object>"
      ]
     },
     "metadata": {},
     "output_type": "display_data"
    }
   ],
   "source": [
    "from IPython.display import display, Image\n",
    "display(Image(filename='Capture.PNG'))"
   ]
  },
  {
   "cell_type": "markdown",
   "metadata": {},
   "source": [
    "## Hyperparameters matter when using Word2Vec for Item recommendation:\n",
    "\n",
    "\n",
    "> Skip-gram with negative sampling, a popular variant of Word2vec originally designed and tuned to create word embeddings for Natural Language Processing, has been used to create item embeddings with successful applications in recommendation. While these fields do not share the same type of data, neither evaluate on the same tasks, recommendation applications tend to use the same already tuned hyperparameters values, even if optimal hyperparameters values are often known to be data and task dependent. We thus investigate the marginal importance of each hyperparameter in a recommendation setting through large hyperparameter grid searches on various datasets. Results reveal that optimizing neglected hyperparameters, namely negative sampling distribution, number of epochs, subsampling parameter and window-size, significantly improves performance on a recommendation task, and can increase it by an order of magnitude. Importantly, we find that optimal hyperparameters configurations for Natural Language Processing tasks and Recommendation tasks are noticeably different. \n",
    "\n",
    "[Hyperparameters matter](https://arxiv.org/abs/1804.04212)\n",
    "\n",
    "#### It turns out that  hyperparameters are really important for this task: especially the sampling parameter.  Try and learn multiple models to see how the ns_exponent parameter modifies the results:\n"
   ]
  },
  {
   "cell_type": "code",
   "execution_count": 27,
   "metadata": {},
   "outputs": [
    {
     "name": "stderr",
     "output_type": "stream",
     "text": [
      "2021-03-11 08:52:23,364 : WARNING : consider setting layer size to a multiple of 4 for greater performance\n",
      "2021-03-11 08:52:23,368 : INFO : collecting all words and their counts\n",
      "2021-03-11 08:52:23,371 : INFO : PROGRESS: at sentence #0, processed 0 words, keeping 0 word types\n",
      "2021-03-11 08:52:23,420 : INFO : collected 9616 word types from a corpus of 97786 raw words and 610 sentences\n",
      "2021-03-11 08:52:23,422 : INFO : Loading a fresh vocabulary\n",
      "2021-03-11 08:52:23,469 : INFO : effective_min_count=0 retains 9616 unique words (100% of original 9616, drops 0)\n",
      "2021-03-11 08:52:23,471 : INFO : effective_min_count=0 leaves 97786 word corpus (100% of original 97786, drops 0)\n",
      "2021-03-11 08:52:23,558 : INFO : deleting the raw counts dictionary of 9616 items\n",
      "2021-03-11 08:52:23,559 : INFO : sample=0.001 downsamples 5 most-common words\n",
      "2021-03-11 08:52:23,562 : INFO : downsampling leaves estimated 97657 word corpus (99.9% of prior 97786)\n",
      "2021-03-11 08:52:23,639 : INFO : estimated required memory for 9616 words and 50 dimensions: 8654400 bytes\n",
      "2021-03-11 08:52:23,649 : INFO : resetting layer weights\n",
      "2021-03-11 08:52:30,171 : INFO : training model with 10 workers on 9616 vocabulary and 50 features, using sg=1 hs=0 sample=0.001 negative=15 window=3\n",
      "2021-03-11 08:52:30,913 : INFO : worker thread finished; awaiting finish of 9 more threads\n",
      "2021-03-11 08:52:30,962 : INFO : worker thread finished; awaiting finish of 8 more threads\n",
      "2021-03-11 08:52:30,967 : INFO : worker thread finished; awaiting finish of 7 more threads\n",
      "2021-03-11 08:52:30,971 : INFO : worker thread finished; awaiting finish of 6 more threads\n",
      "2021-03-11 08:52:31,075 : INFO : worker thread finished; awaiting finish of 5 more threads\n",
      "2021-03-11 08:52:31,104 : INFO : worker thread finished; awaiting finish of 4 more threads\n",
      "2021-03-11 08:52:31,143 : INFO : worker thread finished; awaiting finish of 3 more threads\n",
      "2021-03-11 08:52:31,234 : INFO : EPOCH 1 - PROGRESS: at 84.43% examples, 76226 words/s, in_qsize 2, out_qsize 1\n",
      "2021-03-11 08:52:31,238 : INFO : worker thread finished; awaiting finish of 2 more threads\n",
      "2021-03-11 08:52:31,252 : INFO : worker thread finished; awaiting finish of 1 more threads\n",
      "2021-03-11 08:52:31,308 : INFO : worker thread finished; awaiting finish of 0 more threads\n",
      "2021-03-11 08:52:31,311 : INFO : EPOCH - 1 : training on 97786 raw words (97663 effective words) took 1.1s, 88069 effective words/s\n",
      "2021-03-11 08:52:32,045 : INFO : worker thread finished; awaiting finish of 9 more threads\n",
      "2021-03-11 08:52:32,057 : INFO : worker thread finished; awaiting finish of 8 more threads\n",
      "2021-03-11 08:52:32,155 : INFO : worker thread finished; awaiting finish of 7 more threads\n",
      "2021-03-11 08:52:32,282 : INFO : worker thread finished; awaiting finish of 6 more threads\n",
      "2021-03-11 08:52:32,302 : INFO : worker thread finished; awaiting finish of 5 more threads\n",
      "2021-03-11 08:52:32,357 : INFO : EPOCH 2 - PROGRESS: at 50.49% examples, 57380 words/s, in_qsize 4, out_qsize 1\n",
      "2021-03-11 08:52:32,359 : INFO : worker thread finished; awaiting finish of 4 more threads\n",
      "2021-03-11 08:52:32,420 : INFO : worker thread finished; awaiting finish of 3 more threads\n",
      "2021-03-11 08:52:32,532 : INFO : worker thread finished; awaiting finish of 2 more threads\n",
      "2021-03-11 08:52:32,600 : INFO : worker thread finished; awaiting finish of 1 more threads\n",
      "2021-03-11 08:52:32,646 : INFO : worker thread finished; awaiting finish of 0 more threads\n",
      "2021-03-11 08:52:32,648 : INFO : EPOCH - 2 : training on 97786 raw words (97661 effective words) took 1.3s, 74071 effective words/s\n",
      "2021-03-11 08:52:33,331 : INFO : worker thread finished; awaiting finish of 9 more threads\n",
      "2021-03-11 08:52:33,337 : INFO : worker thread finished; awaiting finish of 8 more threads\n",
      "2021-03-11 08:52:33,399 : INFO : worker thread finished; awaiting finish of 7 more threads\n",
      "2021-03-11 08:52:33,404 : INFO : worker thread finished; awaiting finish of 6 more threads\n",
      "2021-03-11 08:52:33,568 : INFO : worker thread finished; awaiting finish of 5 more threads\n",
      "2021-03-11 08:52:33,609 : INFO : worker thread finished; awaiting finish of 4 more threads\n",
      "2021-03-11 08:52:33,650 : INFO : worker thread finished; awaiting finish of 3 more threads\n",
      "2021-03-11 08:52:33,660 : INFO : worker thread finished; awaiting finish of 2 more threads\n",
      "2021-03-11 08:52:33,713 : INFO : EPOCH 3 - PROGRESS: at 93.28% examples, 85883 words/s, in_qsize 1, out_qsize 1\n",
      "2021-03-11 08:52:33,715 : INFO : worker thread finished; awaiting finish of 1 more threads\n",
      "2021-03-11 08:52:33,724 : INFO : worker thread finished; awaiting finish of 0 more threads\n",
      "2021-03-11 08:52:33,725 : INFO : EPOCH - 3 : training on 97786 raw words (97662 effective words) took 1.0s, 94495 effective words/s\n",
      "2021-03-11 08:52:34,340 : INFO : worker thread finished; awaiting finish of 9 more threads\n",
      "2021-03-11 08:52:34,426 : INFO : worker thread finished; awaiting finish of 8 more threads\n",
      "2021-03-11 08:52:34,619 : INFO : worker thread finished; awaiting finish of 7 more threads\n",
      "2021-03-11 08:52:34,650 : INFO : worker thread finished; awaiting finish of 6 more threads\n",
      "2021-03-11 08:52:34,715 : INFO : worker thread finished; awaiting finish of 5 more threads\n",
      "2021-03-11 08:52:34,751 : INFO : EPOCH 4 - PROGRESS: at 72.30% examples, 58546 words/s, in_qsize 4, out_qsize 1\n",
      "2021-03-11 08:52:34,754 : INFO : worker thread finished; awaiting finish of 4 more threads\n",
      "2021-03-11 08:52:34,767 : INFO : worker thread finished; awaiting finish of 3 more threads\n",
      "2021-03-11 08:52:34,790 : INFO : worker thread finished; awaiting finish of 2 more threads\n",
      "2021-03-11 08:52:34,793 : INFO : worker thread finished; awaiting finish of 1 more threads\n",
      "2021-03-11 08:52:34,854 : INFO : worker thread finished; awaiting finish of 0 more threads\n",
      "2021-03-11 08:52:34,856 : INFO : EPOCH - 4 : training on 97786 raw words (97654 effective words) took 1.1s, 88209 effective words/s\n",
      "2021-03-11 08:52:35,481 : INFO : worker thread finished; awaiting finish of 9 more threads\n",
      "2021-03-11 08:52:35,553 : INFO : worker thread finished; awaiting finish of 8 more threads\n",
      "2021-03-11 08:52:35,564 : INFO : worker thread finished; awaiting finish of 7 more threads\n",
      "2021-03-11 08:52:35,612 : INFO : worker thread finished; awaiting finish of 6 more threads\n",
      "2021-03-11 08:52:35,711 : INFO : worker thread finished; awaiting finish of 5 more threads\n",
      "2021-03-11 08:52:35,734 : INFO : worker thread finished; awaiting finish of 4 more threads\n",
      "2021-03-11 08:52:35,812 : INFO : worker thread finished; awaiting finish of 3 more threads\n",
      "2021-03-11 08:52:35,822 : INFO : worker thread finished; awaiting finish of 2 more threads\n",
      "2021-03-11 08:52:35,835 : INFO : worker thread finished; awaiting finish of 1 more threads\n",
      "2021-03-11 08:52:35,839 : INFO : worker thread finished; awaiting finish of 0 more threads\n",
      "2021-03-11 08:52:35,841 : INFO : EPOCH - 5 : training on 97786 raw words (97668 effective words) took 1.0s, 101657 effective words/s\n",
      "2021-03-11 08:52:36,614 : INFO : worker thread finished; awaiting finish of 9 more threads\n",
      "2021-03-11 08:52:36,616 : INFO : worker thread finished; awaiting finish of 8 more threads\n",
      "2021-03-11 08:52:36,706 : INFO : worker thread finished; awaiting finish of 7 more threads\n",
      "2021-03-11 08:52:36,712 : INFO : worker thread finished; awaiting finish of 6 more threads\n",
      "2021-03-11 08:52:36,775 : INFO : worker thread finished; awaiting finish of 5 more threads\n",
      "2021-03-11 08:52:36,786 : INFO : worker thread finished; awaiting finish of 4 more threads\n",
      "2021-03-11 08:52:36,803 : INFO : worker thread finished; awaiting finish of 3 more threads\n",
      "2021-03-11 08:52:36,814 : INFO : worker thread finished; awaiting finish of 2 more threads\n",
      "2021-03-11 08:52:36,832 : INFO : worker thread finished; awaiting finish of 1 more threads\n",
      "2021-03-11 08:52:36,875 : INFO : EPOCH 6 - PROGRESS: at 100.00% examples, 95833 words/s, in_qsize 0, out_qsize 1\n",
      "2021-03-11 08:52:36,877 : INFO : worker thread finished; awaiting finish of 0 more threads\n",
      "2021-03-11 08:52:36,879 : INFO : EPOCH - 6 : training on 97786 raw words (97694 effective words) took 1.0s, 95463 effective words/s\n",
      "2021-03-11 08:52:37,560 : INFO : worker thread finished; awaiting finish of 9 more threads\n",
      "2021-03-11 08:52:37,584 : INFO : worker thread finished; awaiting finish of 8 more threads\n"
     ]
    },
    {
     "name": "stderr",
     "output_type": "stream",
     "text": [
      "2021-03-11 08:52:37,693 : INFO : worker thread finished; awaiting finish of 7 more threads\n",
      "2021-03-11 08:52:37,777 : INFO : worker thread finished; awaiting finish of 6 more threads\n",
      "2021-03-11 08:52:37,792 : INFO : worker thread finished; awaiting finish of 5 more threads\n",
      "2021-03-11 08:52:37,856 : INFO : worker thread finished; awaiting finish of 4 more threads\n",
      "2021-03-11 08:52:37,886 : INFO : worker thread finished; awaiting finish of 3 more threads\n",
      "2021-03-11 08:52:37,912 : INFO : EPOCH 7 - PROGRESS: at 84.43% examples, 77041 words/s, in_qsize 2, out_qsize 1\n",
      "2021-03-11 08:52:37,916 : INFO : worker thread finished; awaiting finish of 2 more threads\n",
      "2021-03-11 08:52:37,982 : INFO : worker thread finished; awaiting finish of 1 more threads\n",
      "2021-03-11 08:52:37,997 : INFO : worker thread finished; awaiting finish of 0 more threads\n",
      "2021-03-11 08:52:38,000 : INFO : EPOCH - 7 : training on 97786 raw words (97672 effective words) took 1.1s, 88093 effective words/s\n",
      "2021-03-11 08:52:38,423 : INFO : worker thread finished; awaiting finish of 9 more threads\n",
      "2021-03-11 08:52:38,691 : INFO : worker thread finished; awaiting finish of 8 more threads\n",
      "2021-03-11 08:52:38,883 : INFO : worker thread finished; awaiting finish of 7 more threads\n",
      "2021-03-11 08:52:38,941 : INFO : worker thread finished; awaiting finish of 6 more threads\n",
      "2021-03-11 08:52:38,968 : INFO : worker thread finished; awaiting finish of 5 more threads\n",
      "2021-03-11 08:52:38,988 : INFO : worker thread finished; awaiting finish of 4 more threads\n",
      "2021-03-11 08:52:39,044 : INFO : EPOCH 8 - PROGRESS: at 68.52% examples, 69335 words/s, in_qsize 3, out_qsize 1\n",
      "2021-03-11 08:52:39,048 : INFO : worker thread finished; awaiting finish of 3 more threads\n",
      "2021-03-11 08:52:39,115 : INFO : worker thread finished; awaiting finish of 2 more threads\n",
      "2021-03-11 08:52:39,139 : INFO : worker thread finished; awaiting finish of 1 more threads\n",
      "2021-03-11 08:52:39,149 : INFO : worker thread finished; awaiting finish of 0 more threads\n",
      "2021-03-11 08:52:39,151 : INFO : EPOCH - 8 : training on 97786 raw words (97665 effective words) took 1.1s, 88028 effective words/s\n",
      "2021-03-11 08:52:39,878 : INFO : worker thread finished; awaiting finish of 9 more threads\n",
      "2021-03-11 08:52:39,884 : INFO : worker thread finished; awaiting finish of 8 more threads\n",
      "2021-03-11 08:52:39,932 : INFO : worker thread finished; awaiting finish of 7 more threads\n",
      "2021-03-11 08:52:40,050 : INFO : worker thread finished; awaiting finish of 6 more threads\n",
      "2021-03-11 08:52:40,077 : INFO : worker thread finished; awaiting finish of 5 more threads\n",
      "2021-03-11 08:52:40,084 : INFO : worker thread finished; awaiting finish of 4 more threads\n",
      "2021-03-11 08:52:40,094 : INFO : worker thread finished; awaiting finish of 3 more threads\n",
      "2021-03-11 08:52:40,124 : INFO : worker thread finished; awaiting finish of 2 more threads\n",
      "2021-03-11 08:52:40,168 : INFO : worker thread finished; awaiting finish of 1 more threads\n",
      "2021-03-11 08:52:40,174 : INFO : EPOCH 9 - PROGRESS: at 100.00% examples, 97343 words/s, in_qsize 0, out_qsize 1\n",
      "2021-03-11 08:52:40,176 : INFO : worker thread finished; awaiting finish of 0 more threads\n",
      "2021-03-11 08:52:40,179 : INFO : EPOCH - 9 : training on 97786 raw words (97665 effective words) took 1.0s, 96800 effective words/s\n",
      "2021-03-11 08:52:40,899 : INFO : worker thread finished; awaiting finish of 9 more threads\n",
      "2021-03-11 08:52:40,901 : INFO : worker thread finished; awaiting finish of 8 more threads\n",
      "2021-03-11 08:52:40,911 : INFO : worker thread finished; awaiting finish of 7 more threads\n",
      "2021-03-11 08:52:41,000 : INFO : worker thread finished; awaiting finish of 6 more threads\n",
      "2021-03-11 08:52:41,092 : INFO : worker thread finished; awaiting finish of 5 more threads\n",
      "2021-03-11 08:52:41,094 : INFO : worker thread finished; awaiting finish of 4 more threads\n",
      "2021-03-11 08:52:41,169 : INFO : worker thread finished; awaiting finish of 3 more threads\n",
      "2021-03-11 08:52:41,231 : INFO : worker thread finished; awaiting finish of 2 more threads\n",
      "2021-03-11 08:52:41,265 : INFO : EPOCH 10 - PROGRESS: at 94.10% examples, 86382 words/s, in_qsize 1, out_qsize 1\n",
      "2021-03-11 08:52:41,267 : INFO : worker thread finished; awaiting finish of 1 more threads\n",
      "2021-03-11 08:52:41,272 : INFO : worker thread finished; awaiting finish of 0 more threads\n",
      "2021-03-11 08:52:41,274 : INFO : EPOCH - 10 : training on 97786 raw words (97651 effective words) took 1.0s, 95322 effective words/s\n",
      "2021-03-11 08:52:42,012 : INFO : worker thread finished; awaiting finish of 9 more threads\n",
      "2021-03-11 08:52:42,051 : INFO : worker thread finished; awaiting finish of 8 more threads\n",
      "2021-03-11 08:52:42,105 : INFO : worker thread finished; awaiting finish of 7 more threads\n",
      "2021-03-11 08:52:42,152 : INFO : worker thread finished; awaiting finish of 6 more threads\n",
      "2021-03-11 08:52:42,206 : INFO : worker thread finished; awaiting finish of 5 more threads\n",
      "2021-03-11 08:52:42,211 : INFO : worker thread finished; awaiting finish of 4 more threads\n",
      "2021-03-11 08:52:42,215 : INFO : worker thread finished; awaiting finish of 3 more threads\n",
      "2021-03-11 08:52:42,240 : INFO : worker thread finished; awaiting finish of 2 more threads\n",
      "2021-03-11 08:52:42,287 : INFO : worker thread finished; awaiting finish of 1 more threads\n",
      "2021-03-11 08:52:42,363 : INFO : EPOCH 11 - PROGRESS: at 100.00% examples, 91248 words/s, in_qsize 0, out_qsize 1\n",
      "2021-03-11 08:52:42,366 : INFO : worker thread finished; awaiting finish of 0 more threads\n",
      "2021-03-11 08:52:42,369 : INFO : EPOCH - 11 : training on 97786 raw words (97657 effective words) took 1.1s, 90739 effective words/s\n",
      "2021-03-11 08:52:43,202 : INFO : worker thread finished; awaiting finish of 9 more threads\n",
      "2021-03-11 08:52:43,208 : INFO : worker thread finished; awaiting finish of 8 more threads\n",
      "2021-03-11 08:52:43,243 : INFO : worker thread finished; awaiting finish of 7 more threads\n",
      "2021-03-11 08:52:43,274 : INFO : worker thread finished; awaiting finish of 6 more threads\n",
      "2021-03-11 08:52:43,281 : INFO : worker thread finished; awaiting finish of 5 more threads\n",
      "2021-03-11 08:52:43,305 : INFO : worker thread finished; awaiting finish of 4 more threads\n",
      "2021-03-11 08:52:43,317 : INFO : worker thread finished; awaiting finish of 3 more threads\n",
      "2021-03-11 08:52:43,346 : INFO : worker thread finished; awaiting finish of 2 more threads\n",
      "2021-03-11 08:52:43,374 : INFO : worker thread finished; awaiting finish of 1 more threads\n",
      "2021-03-11 08:52:43,382 : INFO : worker thread finished; awaiting finish of 0 more threads\n",
      "2021-03-11 08:52:43,383 : INFO : EPOCH - 12 : training on 97786 raw words (97674 effective words) took 1.0s, 98195 effective words/s\n",
      "2021-03-11 08:52:44,023 : INFO : worker thread finished; awaiting finish of 9 more threads\n",
      "2021-03-11 08:52:44,062 : INFO : worker thread finished; awaiting finish of 8 more threads\n",
      "2021-03-11 08:52:44,070 : INFO : worker thread finished; awaiting finish of 7 more threads\n",
      "2021-03-11 08:52:44,127 : INFO : worker thread finished; awaiting finish of 6 more threads\n",
      "2021-03-11 08:52:44,212 : INFO : worker thread finished; awaiting finish of 5 more threads\n",
      "2021-03-11 08:52:44,241 : INFO : worker thread finished; awaiting finish of 4 more threads\n",
      "2021-03-11 08:52:44,258 : INFO : worker thread finished; awaiting finish of 3 more threads\n",
      "2021-03-11 08:52:44,280 : INFO : worker thread finished; awaiting finish of 2 more threads\n",
      "2021-03-11 08:52:44,343 : INFO : worker thread finished; awaiting finish of 1 more threads\n",
      "2021-03-11 08:52:44,353 : INFO : worker thread finished; awaiting finish of 0 more threads\n",
      "2021-03-11 08:52:44,354 : INFO : EPOCH - 13 : training on 97786 raw words (97657 effective words) took 1.0s, 101572 effective words/s\n",
      "2021-03-11 08:52:44,947 : INFO : worker thread finished; awaiting finish of 9 more threads\n",
      "2021-03-11 08:52:44,971 : INFO : worker thread finished; awaiting finish of 8 more threads\n",
      "2021-03-11 08:52:45,019 : INFO : worker thread finished; awaiting finish of 7 more threads\n",
      "2021-03-11 08:52:45,028 : INFO : worker thread finished; awaiting finish of 6 more threads\n",
      "2021-03-11 08:52:45,205 : INFO : worker thread finished; awaiting finish of 5 more threads\n",
      "2021-03-11 08:52:45,253 : INFO : worker thread finished; awaiting finish of 4 more threads\n"
     ]
    },
    {
     "name": "stderr",
     "output_type": "stream",
     "text": [
      "2021-03-11 08:52:45,260 : INFO : worker thread finished; awaiting finish of 3 more threads\n",
      "2021-03-11 08:52:45,291 : INFO : worker thread finished; awaiting finish of 2 more threads\n",
      "2021-03-11 08:52:45,294 : INFO : worker thread finished; awaiting finish of 1 more threads\n",
      "2021-03-11 08:52:45,336 : INFO : worker thread finished; awaiting finish of 0 more threads\n",
      "2021-03-11 08:52:45,338 : INFO : EPOCH - 14 : training on 97786 raw words (97671 effective words) took 1.0s, 100488 effective words/s\n",
      "2021-03-11 08:52:45,949 : INFO : worker thread finished; awaiting finish of 9 more threads\n",
      "2021-03-11 08:52:46,010 : INFO : worker thread finished; awaiting finish of 8 more threads\n",
      "2021-03-11 08:52:46,021 : INFO : worker thread finished; awaiting finish of 7 more threads\n",
      "2021-03-11 08:52:46,174 : INFO : worker thread finished; awaiting finish of 6 more threads\n",
      "2021-03-11 08:52:46,203 : INFO : worker thread finished; awaiting finish of 5 more threads\n",
      "2021-03-11 08:52:46,282 : INFO : worker thread finished; awaiting finish of 4 more threads\n",
      "2021-03-11 08:52:46,286 : INFO : worker thread finished; awaiting finish of 3 more threads\n",
      "2021-03-11 08:52:46,328 : INFO : worker thread finished; awaiting finish of 2 more threads\n",
      "2021-03-11 08:52:46,370 : INFO : EPOCH 15 - PROGRESS: at 93.28% examples, 85893 words/s, in_qsize 1, out_qsize 1\n",
      "2021-03-11 08:52:46,373 : INFO : worker thread finished; awaiting finish of 1 more threads\n",
      "2021-03-11 08:52:46,383 : INFO : worker thread finished; awaiting finish of 0 more threads\n",
      "2021-03-11 08:52:46,386 : INFO : EPOCH - 15 : training on 97786 raw words (97659 effective words) took 1.0s, 94213 effective words/s\n",
      "2021-03-11 08:52:46,990 : INFO : worker thread finished; awaiting finish of 9 more threads\n",
      "2021-03-11 08:52:47,051 : INFO : worker thread finished; awaiting finish of 8 more threads\n",
      "2021-03-11 08:52:47,077 : INFO : worker thread finished; awaiting finish of 7 more threads\n",
      "2021-03-11 08:52:47,218 : INFO : worker thread finished; awaiting finish of 6 more threads\n",
      "2021-03-11 08:52:47,269 : INFO : worker thread finished; awaiting finish of 5 more threads\n",
      "2021-03-11 08:52:47,285 : INFO : worker thread finished; awaiting finish of 4 more threads\n",
      "2021-03-11 08:52:47,436 : INFO : EPOCH 16 - PROGRESS: at 80.66% examples, 66042 words/s, in_qsize 3, out_qsize 1\n",
      "2021-03-11 08:52:47,438 : INFO : worker thread finished; awaiting finish of 3 more threads\n",
      "2021-03-11 08:52:47,529 : INFO : worker thread finished; awaiting finish of 2 more threads\n",
      "2021-03-11 08:52:47,535 : INFO : worker thread finished; awaiting finish of 1 more threads\n",
      "2021-03-11 08:52:47,606 : INFO : worker thread finished; awaiting finish of 0 more threads\n",
      "2021-03-11 08:52:47,608 : INFO : EPOCH - 16 : training on 97786 raw words (97655 effective words) took 1.2s, 81411 effective words/s\n",
      "2021-03-11 08:52:48,314 : INFO : worker thread finished; awaiting finish of 9 more threads\n",
      "2021-03-11 08:52:48,381 : INFO : worker thread finished; awaiting finish of 8 more threads\n",
      "2021-03-11 08:52:48,432 : INFO : worker thread finished; awaiting finish of 7 more threads\n",
      "2021-03-11 08:52:48,477 : INFO : worker thread finished; awaiting finish of 6 more threads\n",
      "2021-03-11 08:52:48,483 : INFO : worker thread finished; awaiting finish of 5 more threads\n",
      "2021-03-11 08:52:48,526 : INFO : worker thread finished; awaiting finish of 4 more threads\n",
      "2021-03-11 08:52:48,541 : INFO : worker thread finished; awaiting finish of 3 more threads\n",
      "2021-03-11 08:52:48,550 : INFO : worker thread finished; awaiting finish of 2 more threads\n",
      "2021-03-11 08:52:48,595 : INFO : worker thread finished; awaiting finish of 1 more threads\n",
      "2021-03-11 08:52:48,608 : INFO : worker thread finished; awaiting finish of 0 more threads\n",
      "2021-03-11 08:52:48,611 : INFO : EPOCH - 17 : training on 97786 raw words (97663 effective words) took 1.0s, 99102 effective words/s\n",
      "2021-03-11 08:52:49,054 : INFO : worker thread finished; awaiting finish of 9 more threads\n",
      "2021-03-11 08:52:49,462 : INFO : worker thread finished; awaiting finish of 8 more threads\n",
      "2021-03-11 08:52:49,492 : INFO : worker thread finished; awaiting finish of 7 more threads\n",
      "2021-03-11 08:52:49,501 : INFO : worker thread finished; awaiting finish of 6 more threads\n",
      "2021-03-11 08:52:49,541 : INFO : worker thread finished; awaiting finish of 5 more threads\n",
      "2021-03-11 08:52:49,596 : INFO : worker thread finished; awaiting finish of 4 more threads\n",
      "2021-03-11 08:52:49,644 : INFO : worker thread finished; awaiting finish of 3 more threads\n",
      "2021-03-11 08:52:49,654 : INFO : worker thread finished; awaiting finish of 2 more threads\n",
      "2021-03-11 08:52:49,679 : INFO : worker thread finished; awaiting finish of 1 more threads\n",
      "2021-03-11 08:52:49,705 : INFO : EPOCH 18 - PROGRESS: at 100.00% examples, 96130 words/s, in_qsize 0, out_qsize 1\n",
      "2021-03-11 08:52:49,707 : INFO : worker thread finished; awaiting finish of 0 more threads\n",
      "2021-03-11 08:52:49,708 : INFO : EPOCH - 18 : training on 97786 raw words (97652 effective words) took 1.0s, 95868 effective words/s\n",
      "2021-03-11 08:52:50,427 : INFO : worker thread finished; awaiting finish of 9 more threads\n",
      "2021-03-11 08:52:50,698 : INFO : worker thread finished; awaiting finish of 8 more threads\n",
      "2021-03-11 08:52:50,704 : INFO : worker thread finished; awaiting finish of 7 more threads\n",
      "2021-03-11 08:52:50,716 : INFO : worker thread finished; awaiting finish of 6 more threads\n",
      "2021-03-11 08:52:50,724 : INFO : EPOCH 19 - PROGRESS: at 42.62% examples, 48662 words/s, in_qsize 5, out_qsize 1\n",
      "2021-03-11 08:52:50,730 : INFO : worker thread finished; awaiting finish of 5 more threads\n",
      "2021-03-11 08:52:50,733 : INFO : worker thread finished; awaiting finish of 4 more threads\n",
      "2021-03-11 08:52:50,740 : INFO : worker thread finished; awaiting finish of 3 more threads\n",
      "2021-03-11 08:52:50,744 : INFO : worker thread finished; awaiting finish of 2 more threads\n",
      "2021-03-11 08:52:50,753 : INFO : worker thread finished; awaiting finish of 1 more threads\n",
      "2021-03-11 08:52:50,789 : INFO : worker thread finished; awaiting finish of 0 more threads\n",
      "2021-03-11 08:52:50,791 : INFO : EPOCH - 19 : training on 97786 raw words (97671 effective words) took 1.1s, 91477 effective words/s\n",
      "2021-03-11 08:52:51,437 : INFO : worker thread finished; awaiting finish of 9 more threads\n",
      "2021-03-11 08:52:51,471 : INFO : worker thread finished; awaiting finish of 8 more threads\n",
      "2021-03-11 08:52:51,611 : INFO : worker thread finished; awaiting finish of 7 more threads\n",
      "2021-03-11 08:52:51,656 : INFO : worker thread finished; awaiting finish of 6 more threads\n",
      "2021-03-11 08:52:51,686 : INFO : worker thread finished; awaiting finish of 5 more threads\n",
      "2021-03-11 08:52:51,707 : INFO : worker thread finished; awaiting finish of 4 more threads\n",
      "2021-03-11 08:52:51,716 : INFO : worker thread finished; awaiting finish of 3 more threads\n",
      "2021-03-11 08:52:51,736 : INFO : worker thread finished; awaiting finish of 2 more threads\n",
      "2021-03-11 08:52:51,782 : INFO : worker thread finished; awaiting finish of 1 more threads\n",
      "2021-03-11 08:52:51,785 : INFO : worker thread finished; awaiting finish of 0 more threads\n",
      "2021-03-11 08:52:51,788 : INFO : EPOCH - 20 : training on 97786 raw words (97648 effective words) took 1.0s, 99384 effective words/s\n",
      "2021-03-11 08:52:52,290 : INFO : worker thread finished; awaiting finish of 9 more threads\n",
      "2021-03-11 08:52:52,459 : INFO : worker thread finished; awaiting finish of 8 more threads\n",
      "2021-03-11 08:52:52,599 : INFO : worker thread finished; awaiting finish of 7 more threads\n",
      "2021-03-11 08:52:52,625 : INFO : worker thread finished; awaiting finish of 6 more threads\n",
      "2021-03-11 08:52:52,653 : INFO : worker thread finished; awaiting finish of 5 more threads\n",
      "2021-03-11 08:52:52,700 : INFO : worker thread finished; awaiting finish of 4 more threads\n",
      "2021-03-11 08:52:52,705 : INFO : worker thread finished; awaiting finish of 3 more threads\n",
      "2021-03-11 08:52:52,739 : INFO : worker thread finished; awaiting finish of 2 more threads\n",
      "2021-03-11 08:52:52,824 : INFO : EPOCH 21 - PROGRESS: at 92.13% examples, 86010 words/s, in_qsize 1, out_qsize 1\n",
      "2021-03-11 08:52:52,825 : INFO : worker thread finished; awaiting finish of 1 more threads\n",
      "2021-03-11 08:52:52,842 : INFO : worker thread finished; awaiting finish of 0 more threads\n"
     ]
    },
    {
     "name": "stderr",
     "output_type": "stream",
     "text": [
      "2021-03-11 08:52:52,845 : INFO : EPOCH - 21 : training on 97786 raw words (97652 effective words) took 1.0s, 93588 effective words/s\n",
      "2021-03-11 08:52:53,578 : INFO : worker thread finished; awaiting finish of 9 more threads\n",
      "2021-03-11 08:52:53,726 : INFO : worker thread finished; awaiting finish of 8 more threads\n",
      "2021-03-11 08:52:53,795 : INFO : worker thread finished; awaiting finish of 7 more threads\n",
      "2021-03-11 08:52:53,805 : INFO : worker thread finished; awaiting finish of 6 more threads\n",
      "2021-03-11 08:52:53,831 : INFO : worker thread finished; awaiting finish of 5 more threads\n",
      "2021-03-11 08:52:53,836 : INFO : worker thread finished; awaiting finish of 4 more threads\n",
      "2021-03-11 08:52:53,849 : INFO : worker thread finished; awaiting finish of 3 more threads\n",
      "2021-03-11 08:52:53,872 : INFO : EPOCH 22 - PROGRESS: at 86.07% examples, 76716 words/s, in_qsize 2, out_qsize 1\n",
      "2021-03-11 08:52:53,874 : INFO : worker thread finished; awaiting finish of 2 more threads\n",
      "2021-03-11 08:52:53,914 : INFO : worker thread finished; awaiting finish of 1 more threads\n",
      "2021-03-11 08:52:53,920 : INFO : worker thread finished; awaiting finish of 0 more threads\n",
      "2021-03-11 08:52:53,923 : INFO : EPOCH - 22 : training on 97786 raw words (97657 effective words) took 1.1s, 91773 effective words/s\n",
      "2021-03-11 08:52:54,506 : INFO : worker thread finished; awaiting finish of 9 more threads\n",
      "2021-03-11 08:52:54,575 : INFO : worker thread finished; awaiting finish of 8 more threads\n",
      "2021-03-11 08:52:54,809 : INFO : worker thread finished; awaiting finish of 7 more threads\n",
      "2021-03-11 08:52:54,858 : INFO : worker thread finished; awaiting finish of 6 more threads\n",
      "2021-03-11 08:52:54,879 : INFO : worker thread finished; awaiting finish of 5 more threads\n",
      "2021-03-11 08:52:54,897 : INFO : worker thread finished; awaiting finish of 4 more threads\n",
      "2021-03-11 08:52:54,922 : INFO : worker thread finished; awaiting finish of 3 more threads\n",
      "2021-03-11 08:52:54,937 : INFO : worker thread finished; awaiting finish of 2 more threads\n",
      "2021-03-11 08:52:54,989 : INFO : EPOCH 23 - PROGRESS: at 93.28% examples, 84192 words/s, in_qsize 1, out_qsize 1\n",
      "2021-03-11 08:52:54,991 : INFO : worker thread finished; awaiting finish of 1 more threads\n",
      "2021-03-11 08:52:54,994 : INFO : worker thread finished; awaiting finish of 0 more threads\n",
      "2021-03-11 08:52:54,996 : INFO : EPOCH - 23 : training on 97786 raw words (97667 effective words) took 1.0s, 93147 effective words/s\n",
      "2021-03-11 08:52:55,813 : INFO : worker thread finished; awaiting finish of 9 more threads\n",
      "2021-03-11 08:52:55,816 : INFO : worker thread finished; awaiting finish of 8 more threads\n",
      "2021-03-11 08:52:55,824 : INFO : worker thread finished; awaiting finish of 7 more threads\n",
      "2021-03-11 08:52:55,878 : INFO : worker thread finished; awaiting finish of 6 more threads\n",
      "2021-03-11 08:52:55,886 : INFO : worker thread finished; awaiting finish of 5 more threads\n",
      "2021-03-11 08:52:55,916 : INFO : worker thread finished; awaiting finish of 4 more threads\n",
      "2021-03-11 08:52:55,925 : INFO : worker thread finished; awaiting finish of 3 more threads\n",
      "2021-03-11 08:52:55,935 : INFO : worker thread finished; awaiting finish of 2 more threads\n",
      "2021-03-11 08:52:55,970 : INFO : worker thread finished; awaiting finish of 1 more threads\n",
      "2021-03-11 08:52:55,993 : INFO : worker thread finished; awaiting finish of 0 more threads\n",
      "2021-03-11 08:52:55,995 : INFO : EPOCH - 24 : training on 97786 raw words (97678 effective words) took 1.0s, 99664 effective words/s\n",
      "2021-03-11 08:52:56,711 : INFO : worker thread finished; awaiting finish of 9 more threads\n",
      "2021-03-11 08:52:56,746 : INFO : worker thread finished; awaiting finish of 8 more threads\n",
      "2021-03-11 08:52:56,854 : INFO : worker thread finished; awaiting finish of 7 more threads\n",
      "2021-03-11 08:52:56,877 : INFO : worker thread finished; awaiting finish of 6 more threads\n",
      "2021-03-11 08:52:56,880 : INFO : worker thread finished; awaiting finish of 5 more threads\n",
      "2021-03-11 08:52:56,941 : INFO : worker thread finished; awaiting finish of 4 more threads\n",
      "2021-03-11 08:52:56,944 : INFO : worker thread finished; awaiting finish of 3 more threads\n",
      "2021-03-11 08:52:56,978 : INFO : worker thread finished; awaiting finish of 2 more threads\n",
      "2021-03-11 08:52:56,983 : INFO : worker thread finished; awaiting finish of 1 more threads\n",
      "2021-03-11 08:52:57,002 : INFO : worker thread finished; awaiting finish of 0 more threads\n",
      "2021-03-11 08:52:57,005 : INFO : EPOCH - 25 : training on 97786 raw words (97671 effective words) took 0.9s, 105806 effective words/s\n",
      "2021-03-11 08:52:57,008 : INFO : training on a 2444650 raw words (2441587 effective words) took 26.8s, 90991 effective words/s\n"
     ]
    }
   ],
   "source": [
    "# the following configuration is the default configuration\n",
    "w2v = gensim.models.word2vec.Word2Vec(sentences=train_seq_str,\n",
    "                                size=50, window=3,               ### here we train a cbow model \n",
    "                                min_count=0,                      \n",
    "                                sample=0.001, ns_exponent=-0.4, workers=10,\n",
    "                                sg=1, hs=0, negative=15,          ### set sg to 1 to train a sg model => Prod2Vec\n",
    "                                cbow_mean=0,\n",
    "                                iter=25)\n",
    "\n"
   ]
  },
  {
   "cell_type": "code",
   "execution_count": 28,
   "metadata": {},
   "outputs": [
    {
     "name": "stderr",
     "output_type": "stream",
     "text": [
      "2021-03-11 08:52:58,840 : INFO : precomputing L2-norms of word weight vectors\n"
     ]
    }
   ],
   "source": [
    "pop_preds = get_predictions(predict_pop,last_consumed_item,test_seq,-1)\n",
    "w2v_preds = get_predictions(predict_w2v,last_consumed_item,test_seq,-1)"
   ]
  },
  {
   "cell_type": "code",
   "execution_count": 29,
   "metadata": {},
   "outputs": [
    {
     "name": "stdout",
     "output_type": "stream",
     "text": [
      "17.87234931650308\n",
      "11.76756192559135\n",
      "0.051054704276776476\n",
      "0.09005718673541672\n",
      "0.017315723982695277\n",
      "0.03072274162984984\n"
     ]
    }
   ],
   "source": [
    "print(1/mrr(pop_preds))\n",
    "print(1/mrr(w2v_preds))\n",
    "\n",
    "print(mean_dcg(pop_preds,5))\n",
    "print(mean_dcg(w2v_preds,5))\n",
    "\n",
    "print(mean_ndcg(pop_preds,5))\n",
    "print(mean_ndcg(w2v_preds,5))"
   ]
  },
  {
   "cell_type": "markdown",
   "metadata": {},
   "source": [
    "## Still got time ? Try making a more clever item selection mechanism:\n",
    "\n",
    "- You could, for example, cluster items in groups (using k-means) and propose the most popular items of the last seen group"
   ]
  }
 ],
 "metadata": {
  "kernelspec": {
   "display_name": "Python 3",
   "language": "python",
   "name": "python3"
  },
  "language_info": {
   "codemirror_mode": {
    "name": "ipython",
    "version": 3
   },
   "file_extension": ".py",
   "mimetype": "text/x-python",
   "name": "python",
   "nbconvert_exporter": "python",
   "pygments_lexer": "ipython3",
   "version": "3.7.6"
  }
 },
 "nbformat": 4,
 "nbformat_minor": 2
}
